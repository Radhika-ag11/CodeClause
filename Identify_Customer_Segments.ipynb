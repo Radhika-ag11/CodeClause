{
 "cells": [
  {
   "attachments": {},
   "cell_type": "markdown",
   "metadata": {},
   "source": [
    "# CodeClause Internship\n",
    "## Created By- Radhika  Aggarwal\n",
    "### Project- 2: Identify Customer Segments\n"
   ]
  },
  {
   "cell_type": "code",
   "execution_count": null,
   "metadata": {},
   "outputs": [],
   "source": [
    "import numpy as np\n",
    "import pandas as pd\n",
    "import matplotlib.pyplot as plt\n",
    "import seaborn as sns\n",
    "import collections\n",
    "from sklearn.preprocessing import OneHotEncoder\n",
    "from sklearn.preprocessing import Imputer\n",
    "from sklearn.preprocessing import StandardScaler\n",
    "from sklearn.decomposition import PCA\n",
    "from sklearn.cluster import KMeans\n",
    "\n",
    "%matplotlib inline"
   ]
  },
  {
   "attachments": {},
   "cell_type": "markdown",
   "metadata": {},
   "source": [
    "### Step 0: Load the Data\n"
   ]
  },
  {
   "cell_type": "code",
   "execution_count": 2,
   "metadata": {},
   "outputs": [],
   "source": [
    "# Load in the general demographics data.\n",
    "azdias = pd.read_csv('Udacity_AZDIAS_Subset.csv', sep=';')\n",
    "\n",
    "# Load in the feature summary file.\n",
    "feat_info = pd.read_csv('AZDIAS_Feature_Summary.csv', sep=';')"
   ]
  },
  {
   "cell_type": "code",
   "execution_count": 3,
   "metadata": {},
   "outputs": [
    {
     "data": {
      "text/html": [
       "<div>\n",
       "<style>\n",
       "    .dataframe thead tr:only-child th {\n",
       "        text-align: right;\n",
       "    }\n",
       "\n",
       "    .dataframe thead th {\n",
       "        text-align: left;\n",
       "    }\n",
       "\n",
       "    .dataframe tbody tr th {\n",
       "        vertical-align: top;\n",
       "    }\n",
       "</style>\n",
       "<table border=\"1\" class=\"dataframe\">\n",
       "  <thead>\n",
       "    <tr style=\"text-align: right;\">\n",
       "      <th></th>\n",
       "      <th>AGER_TYP</th>\n",
       "      <th>ALTERSKATEGORIE_GROB</th>\n",
       "      <th>ANREDE_KZ</th>\n",
       "      <th>CJT_GESAMTTYP</th>\n",
       "      <th>FINANZ_MINIMALIST</th>\n",
       "      <th>FINANZ_SPARER</th>\n",
       "      <th>FINANZ_VORSORGER</th>\n",
       "      <th>FINANZ_ANLEGER</th>\n",
       "      <th>FINANZ_UNAUFFAELLIGER</th>\n",
       "      <th>FINANZ_HAUSBAUER</th>\n",
       "      <th>...</th>\n",
       "      <th>PLZ8_ANTG1</th>\n",
       "      <th>PLZ8_ANTG2</th>\n",
       "      <th>PLZ8_ANTG3</th>\n",
       "      <th>PLZ8_ANTG4</th>\n",
       "      <th>PLZ8_BAUMAX</th>\n",
       "      <th>PLZ8_HHZ</th>\n",
       "      <th>PLZ8_GBZ</th>\n",
       "      <th>ARBEIT</th>\n",
       "      <th>ORTSGR_KLS9</th>\n",
       "      <th>RELAT_AB</th>\n",
       "    </tr>\n",
       "  </thead>\n",
       "  <tbody>\n",
       "    <tr>\n",
       "      <th>0</th>\n",
       "      <td>-1</td>\n",
       "      <td>2</td>\n",
       "      <td>1</td>\n",
       "      <td>2.0</td>\n",
       "      <td>3</td>\n",
       "      <td>4</td>\n",
       "      <td>3</td>\n",
       "      <td>5</td>\n",
       "      <td>5</td>\n",
       "      <td>3</td>\n",
       "      <td>...</td>\n",
       "      <td>NaN</td>\n",
       "      <td>NaN</td>\n",
       "      <td>NaN</td>\n",
       "      <td>NaN</td>\n",
       "      <td>NaN</td>\n",
       "      <td>NaN</td>\n",
       "      <td>NaN</td>\n",
       "      <td>NaN</td>\n",
       "      <td>NaN</td>\n",
       "      <td>NaN</td>\n",
       "    </tr>\n",
       "    <tr>\n",
       "      <th>1</th>\n",
       "      <td>-1</td>\n",
       "      <td>1</td>\n",
       "      <td>2</td>\n",
       "      <td>5.0</td>\n",
       "      <td>1</td>\n",
       "      <td>5</td>\n",
       "      <td>2</td>\n",
       "      <td>5</td>\n",
       "      <td>4</td>\n",
       "      <td>5</td>\n",
       "      <td>...</td>\n",
       "      <td>2.0</td>\n",
       "      <td>3.0</td>\n",
       "      <td>2.0</td>\n",
       "      <td>1.0</td>\n",
       "      <td>1.0</td>\n",
       "      <td>5.0</td>\n",
       "      <td>4.0</td>\n",
       "      <td>3.0</td>\n",
       "      <td>5.0</td>\n",
       "      <td>4.0</td>\n",
       "    </tr>\n",
       "    <tr>\n",
       "      <th>2</th>\n",
       "      <td>-1</td>\n",
       "      <td>3</td>\n",
       "      <td>2</td>\n",
       "      <td>3.0</td>\n",
       "      <td>1</td>\n",
       "      <td>4</td>\n",
       "      <td>1</td>\n",
       "      <td>2</td>\n",
       "      <td>3</td>\n",
       "      <td>5</td>\n",
       "      <td>...</td>\n",
       "      <td>3.0</td>\n",
       "      <td>3.0</td>\n",
       "      <td>1.0</td>\n",
       "      <td>0.0</td>\n",
       "      <td>1.0</td>\n",
       "      <td>4.0</td>\n",
       "      <td>4.0</td>\n",
       "      <td>3.0</td>\n",
       "      <td>5.0</td>\n",
       "      <td>2.0</td>\n",
       "    </tr>\n",
       "    <tr>\n",
       "      <th>3</th>\n",
       "      <td>2</td>\n",
       "      <td>4</td>\n",
       "      <td>2</td>\n",
       "      <td>2.0</td>\n",
       "      <td>4</td>\n",
       "      <td>2</td>\n",
       "      <td>5</td>\n",
       "      <td>2</td>\n",
       "      <td>1</td>\n",
       "      <td>2</td>\n",
       "      <td>...</td>\n",
       "      <td>2.0</td>\n",
       "      <td>2.0</td>\n",
       "      <td>2.0</td>\n",
       "      <td>0.0</td>\n",
       "      <td>1.0</td>\n",
       "      <td>3.0</td>\n",
       "      <td>4.0</td>\n",
       "      <td>2.0</td>\n",
       "      <td>3.0</td>\n",
       "      <td>3.0</td>\n",
       "    </tr>\n",
       "    <tr>\n",
       "      <th>4</th>\n",
       "      <td>-1</td>\n",
       "      <td>3</td>\n",
       "      <td>1</td>\n",
       "      <td>5.0</td>\n",
       "      <td>4</td>\n",
       "      <td>3</td>\n",
       "      <td>4</td>\n",
       "      <td>1</td>\n",
       "      <td>3</td>\n",
       "      <td>2</td>\n",
       "      <td>...</td>\n",
       "      <td>2.0</td>\n",
       "      <td>4.0</td>\n",
       "      <td>2.0</td>\n",
       "      <td>1.0</td>\n",
       "      <td>2.0</td>\n",
       "      <td>3.0</td>\n",
       "      <td>3.0</td>\n",
       "      <td>4.0</td>\n",
       "      <td>6.0</td>\n",
       "      <td>5.0</td>\n",
       "    </tr>\n",
       "  </tbody>\n",
       "</table>\n",
       "<p>5 rows × 85 columns</p>\n",
       "</div>"
      ],
      "text/plain": [
       "   AGER_TYP  ALTERSKATEGORIE_GROB  ANREDE_KZ  CJT_GESAMTTYP  \\\n",
       "0        -1                     2          1            2.0   \n",
       "1        -1                     1          2            5.0   \n",
       "2        -1                     3          2            3.0   \n",
       "3         2                     4          2            2.0   \n",
       "4        -1                     3          1            5.0   \n",
       "\n",
       "   FINANZ_MINIMALIST  FINANZ_SPARER  FINANZ_VORSORGER  FINANZ_ANLEGER  \\\n",
       "0                  3              4                 3               5   \n",
       "1                  1              5                 2               5   \n",
       "2                  1              4                 1               2   \n",
       "3                  4              2                 5               2   \n",
       "4                  4              3                 4               1   \n",
       "\n",
       "   FINANZ_UNAUFFAELLIGER  FINANZ_HAUSBAUER    ...     PLZ8_ANTG1  PLZ8_ANTG2  \\\n",
       "0                      5                 3    ...            NaN         NaN   \n",
       "1                      4                 5    ...            2.0         3.0   \n",
       "2                      3                 5    ...            3.0         3.0   \n",
       "3                      1                 2    ...            2.0         2.0   \n",
       "4                      3                 2    ...            2.0         4.0   \n",
       "\n",
       "   PLZ8_ANTG3  PLZ8_ANTG4  PLZ8_BAUMAX  PLZ8_HHZ  PLZ8_GBZ  ARBEIT  \\\n",
       "0         NaN         NaN          NaN       NaN       NaN     NaN   \n",
       "1         2.0         1.0          1.0       5.0       4.0     3.0   \n",
       "2         1.0         0.0          1.0       4.0       4.0     3.0   \n",
       "3         2.0         0.0          1.0       3.0       4.0     2.0   \n",
       "4         2.0         1.0          2.0       3.0       3.0     4.0   \n",
       "\n",
       "   ORTSGR_KLS9  RELAT_AB  \n",
       "0          NaN       NaN  \n",
       "1          5.0       4.0  \n",
       "2          5.0       2.0  \n",
       "3          3.0       3.0  \n",
       "4          6.0       5.0  \n",
       "\n",
       "[5 rows x 85 columns]"
      ]
     },
     "execution_count": 3,
     "metadata": {},
     "output_type": "execute_result"
    }
   ],
   "source": [
    "# Check the structure of the data after it's loaded (e.g. print the number of\n",
    "# rows and columns, print the first few rows).\n",
    "azdias.head()"
   ]
  },
  {
   "cell_type": "code",
   "execution_count": 4,
   "metadata": {},
   "outputs": [
    {
     "data": {
      "text/html": [
       "<div>\n",
       "<style>\n",
       "    .dataframe thead tr:only-child th {\n",
       "        text-align: right;\n",
       "    }\n",
       "\n",
       "    .dataframe thead th {\n",
       "        text-align: left;\n",
       "    }\n",
       "\n",
       "    .dataframe tbody tr th {\n",
       "        vertical-align: top;\n",
       "    }\n",
       "</style>\n",
       "<table border=\"1\" class=\"dataframe\">\n",
       "  <thead>\n",
       "    <tr style=\"text-align: right;\">\n",
       "      <th></th>\n",
       "      <th>AGER_TYP</th>\n",
       "      <th>ALTERSKATEGORIE_GROB</th>\n",
       "      <th>ANREDE_KZ</th>\n",
       "      <th>CJT_GESAMTTYP</th>\n",
       "      <th>FINANZ_MINIMALIST</th>\n",
       "      <th>FINANZ_SPARER</th>\n",
       "      <th>FINANZ_VORSORGER</th>\n",
       "      <th>FINANZ_ANLEGER</th>\n",
       "      <th>FINANZ_UNAUFFAELLIGER</th>\n",
       "      <th>FINANZ_HAUSBAUER</th>\n",
       "      <th>...</th>\n",
       "      <th>PLZ8_ANTG1</th>\n",
       "      <th>PLZ8_ANTG2</th>\n",
       "      <th>PLZ8_ANTG3</th>\n",
       "      <th>PLZ8_ANTG4</th>\n",
       "      <th>PLZ8_BAUMAX</th>\n",
       "      <th>PLZ8_HHZ</th>\n",
       "      <th>PLZ8_GBZ</th>\n",
       "      <th>ARBEIT</th>\n",
       "      <th>ORTSGR_KLS9</th>\n",
       "      <th>RELAT_AB</th>\n",
       "    </tr>\n",
       "  </thead>\n",
       "  <tbody>\n",
       "    <tr>\n",
       "      <th>count</th>\n",
       "      <td>891221.000000</td>\n",
       "      <td>891221.000000</td>\n",
       "      <td>891221.000000</td>\n",
       "      <td>886367.000000</td>\n",
       "      <td>891221.000000</td>\n",
       "      <td>891221.000000</td>\n",
       "      <td>891221.000000</td>\n",
       "      <td>891221.000000</td>\n",
       "      <td>891221.000000</td>\n",
       "      <td>891221.000000</td>\n",
       "      <td>...</td>\n",
       "      <td>774706.000000</td>\n",
       "      <td>774706.000000</td>\n",
       "      <td>774706.000000</td>\n",
       "      <td>774706.000000</td>\n",
       "      <td>774706.000000</td>\n",
       "      <td>774706.000000</td>\n",
       "      <td>774706.000000</td>\n",
       "      <td>794005.000000</td>\n",
       "      <td>794005.000000</td>\n",
       "      <td>794005.00000</td>\n",
       "    </tr>\n",
       "    <tr>\n",
       "      <th>mean</th>\n",
       "      <td>-0.358435</td>\n",
       "      <td>2.777398</td>\n",
       "      <td>1.522098</td>\n",
       "      <td>3.632838</td>\n",
       "      <td>3.074528</td>\n",
       "      <td>2.821039</td>\n",
       "      <td>3.401106</td>\n",
       "      <td>3.033328</td>\n",
       "      <td>2.874167</td>\n",
       "      <td>3.075121</td>\n",
       "      <td>...</td>\n",
       "      <td>2.253330</td>\n",
       "      <td>2.801858</td>\n",
       "      <td>1.595426</td>\n",
       "      <td>0.699166</td>\n",
       "      <td>1.943913</td>\n",
       "      <td>3.612821</td>\n",
       "      <td>3.381087</td>\n",
       "      <td>3.167854</td>\n",
       "      <td>5.293002</td>\n",
       "      <td>3.07222</td>\n",
       "    </tr>\n",
       "    <tr>\n",
       "      <th>std</th>\n",
       "      <td>1.198724</td>\n",
       "      <td>1.068775</td>\n",
       "      <td>0.499512</td>\n",
       "      <td>1.595021</td>\n",
       "      <td>1.321055</td>\n",
       "      <td>1.464749</td>\n",
       "      <td>1.322134</td>\n",
       "      <td>1.529603</td>\n",
       "      <td>1.486731</td>\n",
       "      <td>1.353248</td>\n",
       "      <td>...</td>\n",
       "      <td>0.972008</td>\n",
       "      <td>0.920309</td>\n",
       "      <td>0.986736</td>\n",
       "      <td>0.727137</td>\n",
       "      <td>1.459654</td>\n",
       "      <td>0.973967</td>\n",
       "      <td>1.111598</td>\n",
       "      <td>1.002376</td>\n",
       "      <td>2.303739</td>\n",
       "      <td>1.36298</td>\n",
       "    </tr>\n",
       "    <tr>\n",
       "      <th>min</th>\n",
       "      <td>-1.000000</td>\n",
       "      <td>1.000000</td>\n",
       "      <td>1.000000</td>\n",
       "      <td>1.000000</td>\n",
       "      <td>1.000000</td>\n",
       "      <td>1.000000</td>\n",
       "      <td>1.000000</td>\n",
       "      <td>1.000000</td>\n",
       "      <td>1.000000</td>\n",
       "      <td>1.000000</td>\n",
       "      <td>...</td>\n",
       "      <td>0.000000</td>\n",
       "      <td>0.000000</td>\n",
       "      <td>0.000000</td>\n",
       "      <td>0.000000</td>\n",
       "      <td>1.000000</td>\n",
       "      <td>1.000000</td>\n",
       "      <td>1.000000</td>\n",
       "      <td>1.000000</td>\n",
       "      <td>0.000000</td>\n",
       "      <td>1.00000</td>\n",
       "    </tr>\n",
       "    <tr>\n",
       "      <th>25%</th>\n",
       "      <td>-1.000000</td>\n",
       "      <td>2.000000</td>\n",
       "      <td>1.000000</td>\n",
       "      <td>2.000000</td>\n",
       "      <td>2.000000</td>\n",
       "      <td>1.000000</td>\n",
       "      <td>3.000000</td>\n",
       "      <td>2.000000</td>\n",
       "      <td>2.000000</td>\n",
       "      <td>2.000000</td>\n",
       "      <td>...</td>\n",
       "      <td>1.000000</td>\n",
       "      <td>2.000000</td>\n",
       "      <td>1.000000</td>\n",
       "      <td>0.000000</td>\n",
       "      <td>1.000000</td>\n",
       "      <td>3.000000</td>\n",
       "      <td>3.000000</td>\n",
       "      <td>3.000000</td>\n",
       "      <td>4.000000</td>\n",
       "      <td>2.00000</td>\n",
       "    </tr>\n",
       "    <tr>\n",
       "      <th>50%</th>\n",
       "      <td>-1.000000</td>\n",
       "      <td>3.000000</td>\n",
       "      <td>2.000000</td>\n",
       "      <td>4.000000</td>\n",
       "      <td>3.000000</td>\n",
       "      <td>3.000000</td>\n",
       "      <td>3.000000</td>\n",
       "      <td>3.000000</td>\n",
       "      <td>3.000000</td>\n",
       "      <td>3.000000</td>\n",
       "      <td>...</td>\n",
       "      <td>2.000000</td>\n",
       "      <td>3.000000</td>\n",
       "      <td>2.000000</td>\n",
       "      <td>1.000000</td>\n",
       "      <td>1.000000</td>\n",
       "      <td>4.000000</td>\n",
       "      <td>3.000000</td>\n",
       "      <td>3.000000</td>\n",
       "      <td>5.000000</td>\n",
       "      <td>3.00000</td>\n",
       "    </tr>\n",
       "    <tr>\n",
       "      <th>75%</th>\n",
       "      <td>-1.000000</td>\n",
       "      <td>4.000000</td>\n",
       "      <td>2.000000</td>\n",
       "      <td>5.000000</td>\n",
       "      <td>4.000000</td>\n",
       "      <td>4.000000</td>\n",
       "      <td>5.000000</td>\n",
       "      <td>5.000000</td>\n",
       "      <td>4.000000</td>\n",
       "      <td>4.000000</td>\n",
       "      <td>...</td>\n",
       "      <td>3.000000</td>\n",
       "      <td>3.000000</td>\n",
       "      <td>2.000000</td>\n",
       "      <td>1.000000</td>\n",
       "      <td>3.000000</td>\n",
       "      <td>4.000000</td>\n",
       "      <td>4.000000</td>\n",
       "      <td>4.000000</td>\n",
       "      <td>7.000000</td>\n",
       "      <td>4.00000</td>\n",
       "    </tr>\n",
       "    <tr>\n",
       "      <th>max</th>\n",
       "      <td>3.000000</td>\n",
       "      <td>9.000000</td>\n",
       "      <td>2.000000</td>\n",
       "      <td>6.000000</td>\n",
       "      <td>5.000000</td>\n",
       "      <td>5.000000</td>\n",
       "      <td>5.000000</td>\n",
       "      <td>5.000000</td>\n",
       "      <td>5.000000</td>\n",
       "      <td>5.000000</td>\n",
       "      <td>...</td>\n",
       "      <td>4.000000</td>\n",
       "      <td>4.000000</td>\n",
       "      <td>3.000000</td>\n",
       "      <td>2.000000</td>\n",
       "      <td>5.000000</td>\n",
       "      <td>5.000000</td>\n",
       "      <td>5.000000</td>\n",
       "      <td>9.000000</td>\n",
       "      <td>9.000000</td>\n",
       "      <td>9.00000</td>\n",
       "    </tr>\n",
       "  </tbody>\n",
       "</table>\n",
       "<p>8 rows × 81 columns</p>\n",
       "</div>"
      ],
      "text/plain": [
       "            AGER_TYP  ALTERSKATEGORIE_GROB      ANREDE_KZ  CJT_GESAMTTYP  \\\n",
       "count  891221.000000         891221.000000  891221.000000  886367.000000   \n",
       "mean       -0.358435              2.777398       1.522098       3.632838   \n",
       "std         1.198724              1.068775       0.499512       1.595021   \n",
       "min        -1.000000              1.000000       1.000000       1.000000   \n",
       "25%        -1.000000              2.000000       1.000000       2.000000   \n",
       "50%        -1.000000              3.000000       2.000000       4.000000   \n",
       "75%        -1.000000              4.000000       2.000000       5.000000   \n",
       "max         3.000000              9.000000       2.000000       6.000000   \n",
       "\n",
       "       FINANZ_MINIMALIST  FINANZ_SPARER  FINANZ_VORSORGER  FINANZ_ANLEGER  \\\n",
       "count      891221.000000  891221.000000     891221.000000   891221.000000   \n",
       "mean            3.074528       2.821039          3.401106        3.033328   \n",
       "std             1.321055       1.464749          1.322134        1.529603   \n",
       "min             1.000000       1.000000          1.000000        1.000000   \n",
       "25%             2.000000       1.000000          3.000000        2.000000   \n",
       "50%             3.000000       3.000000          3.000000        3.000000   \n",
       "75%             4.000000       4.000000          5.000000        5.000000   \n",
       "max             5.000000       5.000000          5.000000        5.000000   \n",
       "\n",
       "       FINANZ_UNAUFFAELLIGER  FINANZ_HAUSBAUER      ...          PLZ8_ANTG1  \\\n",
       "count          891221.000000     891221.000000      ...       774706.000000   \n",
       "mean                2.874167          3.075121      ...            2.253330   \n",
       "std                 1.486731          1.353248      ...            0.972008   \n",
       "min                 1.000000          1.000000      ...            0.000000   \n",
       "25%                 2.000000          2.000000      ...            1.000000   \n",
       "50%                 3.000000          3.000000      ...            2.000000   \n",
       "75%                 4.000000          4.000000      ...            3.000000   \n",
       "max                 5.000000          5.000000      ...            4.000000   \n",
       "\n",
       "          PLZ8_ANTG2     PLZ8_ANTG3     PLZ8_ANTG4    PLZ8_BAUMAX  \\\n",
       "count  774706.000000  774706.000000  774706.000000  774706.000000   \n",
       "mean        2.801858       1.595426       0.699166       1.943913   \n",
       "std         0.920309       0.986736       0.727137       1.459654   \n",
       "min         0.000000       0.000000       0.000000       1.000000   \n",
       "25%         2.000000       1.000000       0.000000       1.000000   \n",
       "50%         3.000000       2.000000       1.000000       1.000000   \n",
       "75%         3.000000       2.000000       1.000000       3.000000   \n",
       "max         4.000000       3.000000       2.000000       5.000000   \n",
       "\n",
       "            PLZ8_HHZ       PLZ8_GBZ         ARBEIT    ORTSGR_KLS9  \\\n",
       "count  774706.000000  774706.000000  794005.000000  794005.000000   \n",
       "mean        3.612821       3.381087       3.167854       5.293002   \n",
       "std         0.973967       1.111598       1.002376       2.303739   \n",
       "min         1.000000       1.000000       1.000000       0.000000   \n",
       "25%         3.000000       3.000000       3.000000       4.000000   \n",
       "50%         4.000000       3.000000       3.000000       5.000000   \n",
       "75%         4.000000       4.000000       4.000000       7.000000   \n",
       "max         5.000000       5.000000       9.000000       9.000000   \n",
       "\n",
       "           RELAT_AB  \n",
       "count  794005.00000  \n",
       "mean        3.07222  \n",
       "std         1.36298  \n",
       "min         1.00000  \n",
       "25%         2.00000  \n",
       "50%         3.00000  \n",
       "75%         4.00000  \n",
       "max         9.00000  \n",
       "\n",
       "[8 rows x 81 columns]"
      ]
     },
     "execution_count": 4,
     "metadata": {},
     "output_type": "execute_result"
    }
   ],
   "source": [
    "azdias.describe()"
   ]
  },
  {
   "cell_type": "code",
   "execution_count": 5,
   "metadata": {},
   "outputs": [
    {
     "data": {
      "text/plain": [
       "(891221, 85)"
      ]
     },
     "execution_count": 5,
     "metadata": {},
     "output_type": "execute_result"
    }
   ],
   "source": [
    "azdias.shape"
   ]
  },
  {
   "attachments": {},
   "cell_type": "markdown",
   "metadata": {},
   "source": [
    "## Step 1: Preprocessing\n",
    "\n",
    "### Step 1.1: Assess Missing Data\n",
    "\n",
    "#### Step 1.1.1: Convert Missing Value Codes to NaNs"
   ]
  },
  {
   "cell_type": "code",
   "execution_count": 6,
   "metadata": {},
   "outputs": [],
   "source": [
    "# Identify missing or unknown data values and convert them to NaNs.\n",
    "def define_missing(string):\n",
    "    def_missing = string.replace('[', '').replace(']', '').split(',')\n",
    "\n",
    "    if(def_missing != None):\n",
    "        for i in range(len(def_missing)):\n",
    "            try: def_missing[i] = int(def_missing[i])\n",
    "            except ValueError: continue \n",
    "\n",
    "    return def_missing"
   ]
  },
  {
   "cell_type": "code",
   "execution_count": 7,
   "metadata": {},
   "outputs": [
    {
     "data": {
      "text/plain": [
       "-1    677503\n",
       " 2     98472\n",
       " 1     79802\n",
       " 3     27104\n",
       " 0      8340\n",
       "Name: AGER_TYP, dtype: int64"
      ]
     },
     "execution_count": 7,
     "metadata": {},
     "output_type": "execute_result"
    }
   ],
   "source": [
    "pd.value_counts(azdias.AGER_TYP)"
   ]
  },
  {
   "cell_type": "code",
   "execution_count": 8,
   "metadata": {},
   "outputs": [
    {
     "data": {
      "text/html": [
       "<div>\n",
       "<style>\n",
       "    .dataframe thead tr:only-child th {\n",
       "        text-align: right;\n",
       "    }\n",
       "\n",
       "    .dataframe thead th {\n",
       "        text-align: left;\n",
       "    }\n",
       "\n",
       "    .dataframe tbody tr th {\n",
       "        vertical-align: top;\n",
       "    }\n",
       "</style>\n",
       "<table border=\"1\" class=\"dataframe\">\n",
       "  <thead>\n",
       "    <tr style=\"text-align: right;\">\n",
       "      <th></th>\n",
       "      <th>attribute</th>\n",
       "      <th>information_level</th>\n",
       "      <th>type</th>\n",
       "      <th>missing_or_unknown</th>\n",
       "    </tr>\n",
       "  </thead>\n",
       "  <tbody>\n",
       "    <tr>\n",
       "      <th>0</th>\n",
       "      <td>AGER_TYP</td>\n",
       "      <td>person</td>\n",
       "      <td>categorical</td>\n",
       "      <td>[-1,0]</td>\n",
       "    </tr>\n",
       "    <tr>\n",
       "      <th>1</th>\n",
       "      <td>ALTERSKATEGORIE_GROB</td>\n",
       "      <td>person</td>\n",
       "      <td>ordinal</td>\n",
       "      <td>[-1,0,9]</td>\n",
       "    </tr>\n",
       "    <tr>\n",
       "      <th>2</th>\n",
       "      <td>ANREDE_KZ</td>\n",
       "      <td>person</td>\n",
       "      <td>categorical</td>\n",
       "      <td>[-1,0]</td>\n",
       "    </tr>\n",
       "    <tr>\n",
       "      <th>3</th>\n",
       "      <td>CJT_GESAMTTYP</td>\n",
       "      <td>person</td>\n",
       "      <td>categorical</td>\n",
       "      <td>[0]</td>\n",
       "    </tr>\n",
       "    <tr>\n",
       "      <th>4</th>\n",
       "      <td>FINANZ_MINIMALIST</td>\n",
       "      <td>person</td>\n",
       "      <td>ordinal</td>\n",
       "      <td>[-1]</td>\n",
       "    </tr>\n",
       "  </tbody>\n",
       "</table>\n",
       "</div>"
      ],
      "text/plain": [
       "              attribute information_level         type missing_or_unknown\n",
       "0              AGER_TYP            person  categorical             [-1,0]\n",
       "1  ALTERSKATEGORIE_GROB            person      ordinal           [-1,0,9]\n",
       "2             ANREDE_KZ            person  categorical             [-1,0]\n",
       "3         CJT_GESAMTTYP            person  categorical                [0]\n",
       "4     FINANZ_MINIMALIST            person      ordinal               [-1]"
      ]
     },
     "execution_count": 8,
     "metadata": {},
     "output_type": "execute_result"
    }
   ],
   "source": [
    "feat_info.head()"
   ]
  },
  {
   "cell_type": "code",
   "execution_count": 9,
   "metadata": {},
   "outputs": [
    {
     "name": "stdout",
     "output_type": "stream",
     "text": [
      "total NaN: 4896838 \n",
      "\n",
      "NaN per column\n",
      " count        85.000000\n",
      "mean      57609.858824\n",
      "std       78323.462873\n",
      "min           0.000000\n",
      "25%           0.000000\n",
      "50%       18348.000000\n",
      "75%       98979.000000\n",
      "max      584612.000000\n",
      "dtype: float64\n"
     ]
    }
   ],
   "source": [
    "#num previously missing values from whole df\n",
    "print('total NaN: %s \\n'%sum(azdias.isnull().sum()))\n",
    "print('NaN per column\\n %s'%azdias.isnull().sum().describe())"
   ]
  },
  {
   "attachments": {},
   "cell_type": "markdown",
   "metadata": {},
   "source": [
    "#### Step 1.1.2: Assess Missing Data in Each Column"
   ]
  },
  {
   "cell_type": "code",
   "execution_count": 11,
   "metadata": {},
   "outputs": [
    {
     "name": "stdout",
     "output_type": "stream",
     "text": [
      "[685843   2881      0   4854      0      0      0      0      0      0\n",
      "      0 392318   4854      0 111196  97632  94572  77792  77792   4854\n",
      "   4854 108315 108164   4854      0      0      0      0      0      0\n",
      "      0      0      0      0      0      0      0      0 111196  73499\n",
      " 889061 111196      0 310267  73499  73499  18348 584612 147988  73499\n",
      "  99611  97008  93148  73969  93148  93148  93148  99352  99352  99352\n",
      " 133324 133324 133324 133324 476524 133324  93740  93740  93740  93155\n",
      " 158064 133324   4854 158064 105800 116515 116515 116515 116515 116515\n",
      " 116515 116515  97375  97274  97375]\n"
     ]
    }
   ],
   "source": [
    "# Perform an assessment of how much missing data there is in each column of the dataset.\n",
    "null_count = np.asarray(azdias.isnull().sum().tolist())\n",
    "print(null_count)"
   ]
  },
  {
   "cell_type": "code",
   "execution_count": 12,
   "metadata": {},
   "outputs": [
    {
     "data": {
      "text/plain": [
       "count        85.000000\n",
       "mean      98516.811765\n",
       "std      146604.203317\n",
       "min           0.000000\n",
       "25%           0.000000\n",
       "50%       93148.000000\n",
       "75%      116515.000000\n",
       "max      889061.000000\n",
       "dtype: float64"
      ]
     },
     "execution_count": 12,
     "metadata": {},
     "output_type": "execute_result"
    }
   ],
   "source": [
    "# Investigate patterns in the amount of missing data in each column.\n",
    "azdias.isnull().sum().describe()"
   ]
  },
  {
   "cell_type": "code",
   "execution_count": 13,
   "metadata": {},
   "outputs": [
    {
     "data": {
      "text/plain": [
       "[(0, 24),\n",
       " (116515, 7),\n",
       " (4854, 6),\n",
       " (133324, 6),\n",
       " (73499, 4),\n",
       " (93148, 4),\n",
       " (111196, 3),\n",
       " (99352, 3),\n",
       " (93740, 3),\n",
       " (77792, 2),\n",
       " (158064, 2),\n",
       " (97375, 2)]"
      ]
     },
     "execution_count": 13,
     "metadata": {},
     "output_type": "execute_result"
    }
   ],
   "source": [
    "#most common # of NaN: from `https://docs.python.org/2/library/collections.html#collections.Counter`\n",
    "collections.Counter(null_count).most_common(12)"
   ]
  },
  {
   "cell_type": "code",
   "execution_count": 14,
   "metadata": {},
   "outputs": [
    {
     "data": {
      "image/png": "[encoded data removed]",
      "text/plain": [
       "<matplotlib.figure.Figure at 0x7f61862cb550>"
      ]
     },
     "metadata": {},
     "output_type": "display_data"
    }
   ],
   "source": [
    "plt.hist(null_count, bins=30)\n",
    "plt.xlabel(\"# of NaN\")\n",
    "plt.ylabel('# of features')\n",
    "plt.show()"
   ]
  },
  {
   "cell_type": "code",
   "execution_count": 15,
   "metadata": {},
   "outputs": [
    {
     "name": "stdout",
     "output_type": "stream",
     "text": [
      "num null > 200,000: 6  200k-150k: 2  150k-100k: 20  100k-50k: 25\n"
     ]
    }
   ],
   "source": [
    "i_5, i_10, i_15, i_20 = 0,0,0,0\n",
    "for value in null_count:\n",
    "    if(value > 200000):\n",
    "        i_20+=1\n",
    "    elif(value > 150000):\n",
    "        i_15 +=1\n",
    "    elif(value>100000):\n",
    "        i_10+=1\n",
    "    elif(value>50000):\n",
    "        i_5+=1\n",
    "\n",
    "print('num null > 200,000: %s' % i_20, ' 200k-150k: %s'%i_15,' 150k-100k: %s'%i_10, ' 100k-50k: %s'%i_5)"
   ]
  },
  {
   "cell_type": "code",
   "execution_count": 16,
   "metadata": {},
   "outputs": [],
   "source": [
    "# Remove the outlier columns from the dataset.\n",
    "labels_to_clean = []\n",
    "for col in azdias:\n",
    "    if(azdias[col].isnull().sum()>200000):\n",
    "        labels_to_clean.append(col)\n",
    "azdias_cleaned = azdias.drop(labels_to_clean, axis=1)"
   ]
  },
  {
   "cell_type": "code",
   "execution_count": 17,
   "metadata": {},
   "outputs": [
    {
     "name": "stdout",
     "output_type": "stream",
     "text": [
      "(891221, 79)\n",
      "  attribute information_level         type\n",
      "0  AGER_TYP            person  categorical\n",
      "\n",
      "\n",
      "      attribute information_level     type\n",
      "11  GEBURTSJAHR            person  numeric\n",
      "\n",
      "\n",
      "   attribute information_level         type\n",
      "40  TITEL_KZ            person  categorical\n",
      "\n",
      "\n",
      "   attribute information_level      type\n",
      "43  ALTER_HH         household  interval\n",
      "\n",
      "\n",
      "       attribute information_level         type\n",
      "47  KK_KUNDENTYP         household  categorical\n",
      "\n",
      "\n",
      "       attribute information_level   type\n",
      "64  KBA05_BAUMAX     microcell_rr3  mixed\n",
      "\n",
      "\n"
     ]
    }
   ],
   "source": [
    "print(azdias_cleaned.shape)\n",
    "\n",
    "for label in labels_to_clean:\n",
    "    print(feat_info[feat_info['attribute'] == label][['attribute', 'information_level', 'type']])\n",
    "    print('\\n')"
   ]
  },
  {
   "cell_type": "markdown",
   "metadata": {},
   "source": [
    "#### Step 1.1.3: Assess Missing Data in Each Row"
   ]
  },
  {
   "cell_type": "code",
   "execution_count": 18,
   "metadata": {},
   "outputs": [
    {
     "data": {
      "text/plain": [
       "count    891221.000000\n",
       "mean          9.396018\n",
       "std          13.971829\n",
       "min           0.000000\n",
       "25%           3.000000\n",
       "50%           4.000000\n",
       "75%           6.000000\n",
       "max          54.000000\n",
       "dtype: float64"
      ]
     },
     "execution_count": 18,
     "metadata": {},
     "output_type": "execute_result"
    }
   ],
   "source": [
    "# How much data is missing in each row of the dataset?\n",
    "azdias.isnull().sum(axis=1).describe() #count isnull along axis=1 --> along each row"
   ]
  },
  {
   "cell_type": "code",
   "execution_count": 19,
   "metadata": {},
   "outputs": [
    {
     "data": {
      "image/png": "[encoded data removed]",
      "text/plain": [
       "<matplotlib.figure.Figure at 0x7f61841aac18>"
      ]
     },
     "metadata": {},
     "output_type": "display_data"
    }
   ],
   "source": [
    "plt.figure(figsize=(14,4)) # this creates a figure 8 inch wide, 4 inch high\n",
    "ax = sns.countplot(azdias.isnull().sum(axis=1))\n",
    "ax.set_xlabel('# missing values')\n",
    "plt.show()\n",
    "##number of rows/data points that has x missing values"
   ]
  },
  {
   "cell_type": "code",
   "execution_count": 20,
   "metadata": {},
   "outputs": [],
   "source": [
    "# Write code to divide the data into two subsets based on the number of missing values in each row.\n",
    "azdias_cleaned['num_null'] = azdias_cleaned.isnull().sum(axis=1)"
   ]
  },
  {
   "cell_type": "code",
   "execution_count": 21,
   "metadata": {},
   "outputs": [
    {
     "name": "stdout",
     "output_type": "stream",
     "text": [
      "(797426, 79)\n",
      "(93795, 79)\n"
     ]
    }
   ],
   "source": [
    "#split into datum that have less than and more than 20 missing values\n",
    "azdias_low = azdias_cleaned.query('num_null < 21').drop('num_null', axis=1)\n",
    "azdias_high = azdias_cleaned.query('num_null > 20').drop('num_null', axis=1)\n",
    "print(azdias_low.shape)\n",
    "print(azdias_high.shape)"
   ]
  },
  {
   "cell_type": "code",
   "execution_count": 22,
   "metadata": {},
   "outputs": [
    {
     "data": {
      "image/png": "[encoded data removed]",
      "text/plain": [
       "<matplotlib.figure.Figure at 0x7f618407e550>"
      ]
     },
     "metadata": {},
     "output_type": "display_data"
    }
   ],
   "source": [
    "plt.figure(figsize=(20,20))\n",
    "for i, col in enumerate(azdias_low.columns[:10]):\n",
    "    plt.subplot(5, 2, i+1)\n",
    "    sns.distplot(azdias_low[col][azdias_low[col].notnull()], label='low_NaN')\n",
    "    sns.distplot(azdias_high[col][azdias_high[col].notnull()], label='high_NaN')\n",
    "    plt.title('Distribution for column: {}'.format(col))\n",
    "    plt.tight_layout()\n",
    "    plt.legend();"
   ]
  },
  {
   "cell_type": "code",
   "execution_count": 23,
   "metadata": {},
   "outputs": [],
   "source": [
    "# Compare the distribution of values for at least five columns where there are no or few missing values, between the two subsets.\n",
    "def graph_value_dist(column):\n",
    "    fig, (ax1, ax2) = plt.subplots(1,2, sharey=True)\n",
    "    ax1.set_title('low NaN data')\n",
    "    ax2.set_title('high NaN data')\n",
    "    sns.countplot(azdias_low[column], ax=ax1)\n",
    "    sns.countplot(azdias_high[column], ax=ax2)\n",
    "    plt.show()"
   ]
  },
  {
   "cell_type": "code",
   "execution_count": 24,
   "metadata": {},
   "outputs": [
    {
     "name": "stdout",
     "output_type": "stream",
     "text": [
      "['ANREDE_KZ', 'FINANZ_MINIMALIST', 'FINANZ_SPARER', 'FINANZ_VORSORGER', 'FINANZ_ANLEGER', 'GREEN_AVANTGARDE']\n"
     ]
    }
   ],
   "source": [
    "#get column names for distribution analysis\n",
    "cols=[1,3,4,5,6,11]\n",
    "col_names = []\n",
    "for i in cols:\n",
    "    null1 = azdias_low.iloc[:,i].isnull().sum()\n",
    "    null2 = azdias_high.iloc[:,i].isnull().sum()\n",
    "    col_name = azdias_low.iloc[:,i].name\n",
    "    if(null1+null2 == 0):\n",
    "        col_names.append(col_name)\n",
    "        \n",
    "print(col_names)"
   ]
  },
  {
   "cell_type": "code",
   "execution_count": 25,
   "metadata": {},
   "outputs": [
    {
     "data": {
      "image/png": "[encoded data removed]",
      "text/plain": [
       "<matplotlib.figure.Figure at 0x7f6181a637b8>"
      ]
     },
     "metadata": {},
     "output_type": "display_data"
    },
    {
     "data": {
      "image/png": "[encoded data removed]",
      "text/plain": [
       "<matplotlib.figure.Figure at 0x7f6180f1ecf8>"
      ]
     },
     "metadata": {},
     "output_type": "display_data"
    },
    {
     "data": {
      "image/png": "[encoded data removed]",
      "text/plain": [
       "<matplotlib.figure.Figure at 0x7f617f5d8630>"
      ]
     },
     "metadata": {},
     "output_type": "display_data"
    },
    {
     "data": {
      "image/png": "[encoded data removed]",
      "text/plain": [
       "<matplotlib.figure.Figure at 0x7f617f57a588>"
      ]
     },
     "metadata": {},
     "output_type": "display_data"
    },
    {
     "data": {
      "image/png": "[encoded data removed]",
      "text/plain": [
       "<matplotlib.figure.Figure at 0x7f617f4ad358>"
      ]
     },
     "metadata": {},
     "output_type": "display_data"
    },
    {
     "data": {
      "image/png": "[encoded data removed]",
      "text/plain": [
       "<matplotlib.figure.Figure at 0x7f617f4ced30>"
      ]
     },
     "metadata": {},
     "output_type": "display_data"
    }
   ],
   "source": [
    "for col in col_names:\n",
    "    graph_value_dist(col)"
   ]
  },
  {
   "attachments": {},
   "cell_type": "markdown",
   "metadata": {},
   "source": [
    "### Step 1.2: Select and Re-Encode Features"
   ]
  },
  {
   "cell_type": "code",
   "execution_count": 26,
   "metadata": {},
   "outputs": [
    {
     "data": {
      "text/plain": [
       "ordinal        49\n",
       "categorical    21\n",
       "numeric         7\n",
       "mixed           7\n",
       "interval        1\n",
       "Name: type, dtype: int64"
      ]
     },
     "execution_count": 26,
     "metadata": {},
     "output_type": "execute_result"
    }
   ],
   "source": [
    "# How many features are there of each data type?\n",
    "#feat_info.groupby('type')['attribute'].nunique()\n",
    "feat_info['type'].value_counts()"
   ]
  },
  {
   "attachments": {},
   "cell_type": "markdown",
   "metadata": {},
   "source": [
    "#### Step 1.2.1: Re-Encode Categorical Features\n",
    "\n"
   ]
  },
  {
   "cell_type": "code",
   "execution_count": 27,
   "metadata": {},
   "outputs": [
    {
     "name": "stdout",
     "output_type": "stream",
     "text": [
      "count    205378.000000\n",
      "mean          1.743410\n",
      "std           0.674312\n",
      "min           1.000000\n",
      "25%           1.000000\n",
      "50%           2.000000\n",
      "75%           2.000000\n",
      "max           3.000000\n",
      "Name: AGER_TYP, dtype: float64\n",
      "685843\n",
      "count    891221.000000\n",
      "mean          1.522098\n",
      "std           0.499512\n",
      "min           1.000000\n",
      "25%           1.000000\n",
      "50%           2.000000\n",
      "75%           2.000000\n",
      "max           2.000000\n",
      "Name: ANREDE_KZ, dtype: float64\n",
      "0\n",
      "count    886367.000000\n",
      "mean          3.632838\n",
      "std           1.595021\n",
      "min           1.000000\n",
      "25%           2.000000\n",
      "50%           4.000000\n",
      "75%           5.000000\n",
      "max           6.000000\n",
      "Name: CJT_GESAMTTYP, dtype: float64\n",
      "4854\n",
      "count    891221.000000\n",
      "mean          3.790586\n",
      "std           1.987876\n",
      "min           1.000000\n",
      "25%           2.000000\n",
      "50%           4.000000\n",
      "75%           6.000000\n",
      "max           6.000000\n",
      "Name: FINANZTYP, dtype: float64\n",
      "0\n",
      "count    886367.000000\n",
      "mean          7.350304\n",
      "std           3.525723\n",
      "min           1.000000\n",
      "25%           5.000000\n",
      "50%           8.000000\n",
      "75%          10.000000\n",
      "max          12.000000\n",
      "Name: GFK_URLAUBERTYP, dtype: float64\n",
      "4854\n",
      "count    891221.000000\n",
      "mean          0.196612\n",
      "std           0.397437\n",
      "min           0.000000\n",
      "25%           0.000000\n",
      "50%           0.000000\n",
      "75%           0.000000\n",
      "max           1.000000\n",
      "Name: GREEN_AVANTGARDE, dtype: float64\n",
      "0\n",
      "count    813429.000000\n",
      "mean          3.922339\n",
      "std           3.941285\n",
      "min           1.000000\n",
      "25%           1.000000\n",
      "50%           1.000000\n",
      "75%           8.000000\n",
      "max          11.000000\n",
      "Name: LP_FAMILIE_FEIN, dtype: float64\n",
      "77792\n",
      "count    813429.000000\n",
      "mean          2.381976\n",
      "std           1.701527\n",
      "min           1.000000\n",
      "25%           1.000000\n",
      "50%           1.000000\n",
      "75%           4.000000\n",
      "max           5.000000\n",
      "Name: LP_FAMILIE_GROB, dtype: float64\n",
      "77792\n",
      "count    886367.000000\n",
      "mean          4.791151\n",
      "std           3.425305\n",
      "min           1.000000\n",
      "25%           2.000000\n",
      "50%           4.000000\n",
      "75%           9.000000\n",
      "max          10.000000\n",
      "Name: LP_STATUS_FEIN, dtype: float64\n",
      "4854\n",
      "count    886367.000000\n",
      "mean          2.432575\n",
      "std           1.474315\n",
      "min           1.000000\n",
      "25%           1.000000\n",
      "50%           2.000000\n",
      "75%           4.000000\n",
      "max           5.000000\n",
      "Name: LP_STATUS_GROB, dtype: float64\n",
      "4854\n",
      "count    782906.000000\n",
      "mean          1.168889\n",
      "std           0.475075\n",
      "min           1.000000\n",
      "25%           1.000000\n",
      "50%           1.000000\n",
      "75%           1.000000\n",
      "max           3.000000\n",
      "Name: NATIONALITAET_KZ, dtype: float64\n",
      "108315\n",
      "count    780025.000000\n",
      "mean          1.590134\n",
      "std           1.027972\n",
      "min           0.000000\n",
      "25%           1.000000\n",
      "50%           2.000000\n",
      "75%           2.000000\n",
      "max           3.000000\n",
      "Name: SHOPPER_TYP, dtype: float64\n",
      "111196\n",
      "count    817722.000000\n",
      "mean          0.008423\n",
      "std           0.091392\n",
      "min           0.000000\n",
      "25%           0.000000\n",
      "50%           0.000000\n",
      "75%           0.000000\n",
      "max           1.000000\n",
      "Name: SOHO_KZ, dtype: float64\n",
      "73499\n",
      "count    2160.000000\n",
      "mean        1.318519\n",
      "std         0.999504\n",
      "min         1.000000\n",
      "25%         1.000000\n",
      "50%         1.000000\n",
      "75%         1.000000\n",
      "max         5.000000\n",
      "Name: TITEL_KZ, dtype: float64\n",
      "889061\n",
      "count    780025.000000\n",
      "mean          1.511166\n",
      "std           0.499876\n",
      "min           1.000000\n",
      "25%           1.000000\n",
      "50%           2.000000\n",
      "75%           2.000000\n",
      "max           2.000000\n",
      "Name: VERS_TYP, dtype: float64\n",
      "111196\n",
      "count    891221.000000\n",
      "mean          3.362438\n",
      "std           1.352704\n",
      "min           1.000000\n",
      "25%           3.000000\n",
      "50%           3.000000\n",
      "75%           4.000000\n",
      "max           6.000000\n",
      "Name: ZABEOTYP, dtype: float64\n",
      "0\n",
      "count    306609.000000\n",
      "mean          3.410640\n",
      "std           1.628844\n",
      "min           1.000000\n",
      "25%           2.000000\n",
      "50%           3.000000\n",
      "75%           5.000000\n",
      "max           6.000000\n",
      "Name: KK_KUNDENTYP, dtype: float64\n",
      "584612\n",
      "count    798073.000000\n",
      "mean          2.798641\n",
      "std           2.656713\n",
      "min           1.000000\n",
      "25%           1.000000\n",
      "50%           1.000000\n",
      "75%           3.000000\n",
      "max           8.000000\n",
      "Name: GEBAEUDETYP, dtype: float64\n",
      "93148\n",
      "count     798073\n",
      "unique         2\n",
      "top            W\n",
      "freq      629528\n",
      "Name: OST_WEST_KZ, dtype: object\n",
      "93148\n",
      "count     791869\n",
      "unique         9\n",
      "top            8\n",
      "freq      134441\n",
      "Name: CAMEO_DEUG_2015, dtype: object\n",
      "99352\n",
      "count     791869\n",
      "unique        44\n",
      "top           6B\n",
      "freq       56672\n",
      "Name: CAMEO_DEU_2015, dtype: object\n",
      "99352\n"
     ]
    }
   ],
   "source": [
    "# Assess categorical variables: which are binary, which are multi-level, and\n",
    "# which one needs to be re-encoded?\n",
    "cat_vars = feat_info[feat_info['type'] == 'categorical']['attribute'].tolist()\n",
    "\n",
    "for var in cat_vars:\n",
    "    print(azdias[var].describe())\n",
    "    print(azdias[var].isnull().sum())"
   ]
  },
  {
   "cell_type": "code",
   "execution_count": 28,
   "metadata": {},
   "outputs": [
    {
     "data": {
      "text/plain": [
       "W    629528\n",
       "O    168545\n",
       "Name: OST_WEST_KZ, dtype: int64"
      ]
     },
     "execution_count": 28,
     "metadata": {},
     "output_type": "execute_result"
    }
   ],
   "source": [
    "azdias['OST_WEST_KZ'].value_counts()"
   ]
  },
  {
   "cell_type": "code",
   "execution_count": 29,
   "metadata": {},
   "outputs": [
    {
     "data": {
      "text/plain": [
       "1    628987\n",
       "0    168439\n",
       "Name: WEST_KZ, dtype: int64"
      ]
     },
     "execution_count": 29,
     "metadata": {},
     "output_type": "execute_result"
    }
   ],
   "source": [
    "# Re-encode categorical variable(s) to be kept in the analysis.\n",
    "azdias_low['WEST_KZ'] = azdias_low['OST_WEST_KZ'].replace({'W':1, 'O':0})\n",
    "azdias_low['WEST_KZ'].value_counts()"
   ]
  },
  {
   "cell_type": "code",
   "execution_count": 30,
   "metadata": {},
   "outputs": [],
   "source": [
    "def imputer_freq(df, var): #fill in NaN with most common value in column\n",
    "    most_freq = df[var].value_counts().idxmax()\n",
    "    return df[var].fillna(most_freq)"
   ]
  },
  {
   "cell_type": "code",
   "execution_count": 31,
   "metadata": {},
   "outputs": [
    {
     "name": "stdout",
     "output_type": "stream",
     "text": [
      "(797426, 80)\n",
      "(797426, 81)\n",
      "(797426, 82)\n",
      "(797426, 83)\n",
      "(797426, 84)\n",
      "(797426, 85)\n",
      "(797426, 85)\n",
      "(797426, 86)\n",
      "(797426, 87)\n",
      "(797426, 88)\n",
      "(797426, 89)\n",
      "(797426, 90)\n",
      "(797426, 90)\n",
      "(797426, 91)\n",
      "(797426, 92)\n",
      "(797426, 93)\n",
      "(797426, 94)\n",
      "(797426, 95)\n",
      "(797426, 96)\n",
      "(797426, 97)\n",
      "(797426, 98)\n",
      "(797426, 99)\n",
      "(797426, 100)\n",
      "(797426, 101)\n",
      "(797426, 101)\n",
      "(797426, 102)\n",
      "(797426, 103)\n",
      "(797426, 104)\n",
      "(797426, 105)\n",
      "(797426, 106)\n",
      "(797426, 107)\n",
      "(797426, 108)\n",
      "(797426, 109)\n",
      "(797426, 110)\n",
      "(797426, 111)\n",
      "(797426, 111)\n",
      "(797426, 112)\n",
      "(797426, 113)\n",
      "(797426, 114)\n",
      "(797426, 115)\n",
      "(797426, 115)\n",
      "(797426, 116)\n",
      "(797426, 117)\n",
      "(797426, 118)\n",
      "(797426, 119)\n",
      "(797426, 120)\n",
      "(797426, 121)\n",
      "(797426, 122)\n",
      "(797426, 123)\n",
      "(797426, 124)\n",
      "(797426, 124)\n",
      "(797426, 125)\n",
      "(797426, 126)\n",
      "(797426, 127)\n",
      "(797426, 128)\n",
      "(797426, 128)\n",
      "(797426, 129)\n",
      "(797426, 130)\n",
      "(797426, 130)\n",
      "(797426, 131)\n",
      "(797426, 132)\n",
      "(797426, 133)\n",
      "(797426, 133)\n",
      "(797426, 134)\n",
      "(797426, 135)\n",
      "(797426, 136)\n",
      "(797426, 137)\n",
      "(797426, 138)\n",
      "(797426, 138)\n",
      "(797426, 139)\n",
      "(797426, 140)\n",
      "(797426, 141)\n",
      "(797426, 142)\n",
      "(797426, 143)\n",
      "(797426, 144)\n",
      "(797426, 144)\n",
      "(797426, 145)\n",
      "(797426, 146)\n",
      "(797426, 147)\n",
      "(797426, 148)\n",
      "(797426, 149)\n",
      "(797426, 150)\n",
      "(797426, 151)\n",
      "(797426, 152)\n",
      "(797426, 152)\n",
      "(797426, 153)\n",
      "(797426, 154)\n",
      "(797426, 155)\n",
      "(797426, 156)\n",
      "(797426, 157)\n",
      "(797426, 158)\n",
      "(797426, 159)\n",
      "(797426, 160)\n",
      "(797426, 161)\n",
      "(797426, 162)\n",
      "(797426, 163)\n",
      "(797426, 164)\n",
      "(797426, 165)\n",
      "(797426, 166)\n",
      "(797426, 167)\n",
      "(797426, 168)\n",
      "(797426, 169)\n",
      "(797426, 170)\n",
      "(797426, 171)\n",
      "(797426, 172)\n",
      "(797426, 173)\n",
      "(797426, 174)\n",
      "(797426, 175)\n",
      "(797426, 176)\n",
      "(797426, 177)\n",
      "(797426, 178)\n",
      "(797426, 179)\n",
      "(797426, 180)\n",
      "(797426, 181)\n",
      "(797426, 182)\n",
      "(797426, 183)\n",
      "(797426, 184)\n",
      "(797426, 185)\n",
      "(797426, 186)\n",
      "(797426, 187)\n",
      "(797426, 188)\n",
      "(797426, 189)\n",
      "(797426, 190)\n",
      "(797426, 191)\n",
      "(797426, 192)\n",
      "(797426, 193)\n",
      "(797426, 194)\n",
      "(797426, 195)\n"
     ]
    }
   ],
   "source": [
    "one_hot_vars = ['CJT_GESAMTTYP', 'FINANZTYP','GFK_URLAUBERTYP', 'LP_FAMILIE_FEIN', \n",
    "                'LP_FAMILIE_GROB', 'LP_STATUS_FEIN', 'LP_STATUS_GROB', 'NATIONALITAET_KZ', \n",
    "                'SHOPPER_TYP', 'ZABEOTYP', 'GEBAEUDETYP', 'CAMEO_DEUG_2015', 'CAMEO_DEU_2015']\n",
    "for var in one_hot_vars:\n",
    "    imputed_data = imputer_freq(azdias_low, var) #fill na-- imputation\n",
    "    encode = pd.get_dummies(imputed_data, prefix=var) #one hot encode\n",
    "    azdias_low = azdias_low.drop(var, axis=1) # remove column we onehot\n",
    "    \n",
    "    for col in encode.columns: #insert new encoded columns into the dataset\n",
    "        azdias_low[col] = encode[col] \n",
    "        print(azdias_low.shape)"
   ]
  },
  {
   "cell_type": "code",
   "execution_count": 32,
   "metadata": {},
   "outputs": [
    {
     "name": "stdout",
     "output_type": "stream",
     "text": [
      "KK_KUNDENTYP already cleaned from dataset\n",
      "TITEL_KZ already cleaned from dataset\n",
      "AGER_TYP already cleaned from dataset\n"
     ]
    }
   ],
   "source": [
    "drop_categorical = ['KK_KUNDENTYP', 'TITEL_KZ', 'AGER_TYP']\n",
    "for category in drop_categorical:\n",
    "    try: azdias_low = azdias_low.drop(category, axis=1)\n",
    "    except ValueError: print('{0} already cleaned from dataset'.format(category))"
   ]
  },
  {
   "attachments": {},
   "cell_type": "markdown",
   "metadata": {},
   "source": [
    "#### Step 1.2.2: Engineer Mixed-Type Features\n"
   ]
  },
  {
   "cell_type": "code",
   "execution_count": 33,
   "metadata": {},
   "outputs": [
    {
     "name": "stdout",
     "output_type": "stream",
     "text": [
      "14.0    188697\n",
      "8.0     145988\n",
      "5.0      86416\n",
      "10.0     85808\n",
      "3.0      55195\n",
      "15.0     42547\n",
      "11.0     35752\n",
      "9.0      33570\n",
      "6.0      25652\n",
      "12.0     24446\n",
      "1.0      21282\n",
      "4.0      20451\n",
      "2.0       7479\n",
      "13.0      5764\n",
      "7.0       4010\n",
      "Name: PRAEGENDE_JUGENDJAHRE, dtype: int64\n"
     ]
    }
   ],
   "source": [
    "# Investigate \"PRAEGENDE_JUGENDJAHRE\" and engineer two new variables.\n",
    "print(azdias['PRAEGENDE_JUGENDJAHRE'].value_counts())\n",
    "decade_mapping = {1:40, 2:40,3:50,4:50,5:60,6:60,7:60,8:70,9:70,10:80,11:80,12:80,13:80,14:90,15:90}\n",
    "avantgarde_mapping ={1:0,2:1,3:0,4:1,5:0,6:1,7:1,8:0,9:1,10:0,11:1,12:0,13:1,14:0,15:1}\n",
    "\n",
    "azdias_low['AVANTGARDE'] = azdias_low['PRAEGENDE_JUGENDJAHRE'].map(avantgarde_mapping)\n",
    "azdias_low['YOUTH_DECADE'] = azdias_low['PRAEGENDE_JUGENDJAHRE'].map(decade_mapping)\n",
    "\n",
    "#impute null values\n",
    "azdias_low['AVANTGARDE'] = imputer_freq(azdias_low, 'AVANTGARDE')\n",
    "azdias_low['YOUTH_DECADE'] = imputer_freq(azdias_low, 'YOUTH_DECADE')"
   ]
  },
  {
   "cell_type": "code",
   "execution_count": 34,
   "metadata": {},
   "outputs": [
    {
     "name": "stdout",
     "output_type": "stream",
     "text": [
      "number of nulls: 6003\n",
      "value counts: 51    133673\n",
      "41     92309\n",
      "24     91099\n",
      "14     62851\n",
      "43     56653\n",
      "54     45376\n",
      "25     39605\n",
      "22     33137\n",
      "23     26667\n",
      "13     26311\n",
      "45     26126\n",
      "55     23939\n",
      "52     20538\n",
      "31     18979\n",
      "34     18517\n",
      "15     16966\n",
      "44     14817\n",
      "12     13234\n",
      "35     10352\n",
      "32     10346\n",
      "33      9928\n",
      "Name: CAMEO_INTL_2015, dtype: int64\n"
     ]
    }
   ],
   "source": [
    "# Investigate \"CAMEO_INTL_2015\" and engineer two new variables.\n",
    "print('number of nulls: %s'%azdias_low['CAMEO_INTL_2015'].isnull().sum())\n",
    "print('value counts: %s' % azdias_low['CAMEO_INTL_2015'].value_counts())"
   ]
  },
  {
   "cell_type": "code",
   "execution_count": 35,
   "metadata": {},
   "outputs": [],
   "source": [
    "def decode_wealth(key):\n",
    "    if(len(str(key))==2):\n",
    "        tens = int(str(key)[0])\n",
    "        return tens\n",
    "    else: return np.nan\n",
    "    \n",
    "def decode_life(key):\n",
    "    if(len(str(key))==2):\n",
    "        ones = int(str(key)[1])\n",
    "        return ones\n",
    "    else: return np.nan"
   ]
  },
  {
   "cell_type": "code",
   "execution_count": 36,
   "metadata": {},
   "outputs": [],
   "source": [
    "'''ENGINEERING OF `CAMEO_INTL_2015` '''\n",
    "azdias_low['CAMEO_INTL_2015_WEALTH'] = azdias_low['CAMEO_INTL_2015'].apply(decode_wealth)\n",
    "azdias_low['CAMEO_INTL_2015_LIFE'] = azdias_low['CAMEO_INTL_2015'].apply(decode_life)\n",
    "\n",
    "#impute nan values\n",
    "azdias_low['CAMEO_INTL_2015_WEALTH'] = imputer_freq(azdias_low, 'CAMEO_INTL_2015_WEALTH')\n",
    "azdias_low['CAMEO_INTL_2015_LIFE'] = imputer_freq(azdias_low, 'CAMEO_INTL_2015_LIFE')"
   ]
  },
  {
   "cell_type": "code",
   "execution_count": 37,
   "metadata": {},
   "outputs": [
    {
     "name": "stdout",
     "output_type": "stream",
     "text": [
      "['LP_LEBENSPHASE_FEIN', 'LP_LEBENSPHASE_GROB', 'WOHNLAGE', 'KBA05_BAUMAX', 'PLZ8_BAUMAX']\n"
     ]
    }
   ],
   "source": [
    "mixed_feat = feat_info[feat_info['type'] == 'mixed']['attribute'].tolist()\n",
    "mixed_feat.remove('PRAEGENDE_JUGENDJAHRE')\n",
    "mixed_feat.remove('CAMEO_INTL_2015')\n",
    "print(mixed_feat)"
   ]
  },
  {
   "cell_type": "code",
   "execution_count": 38,
   "metadata": {},
   "outputs": [
    {
     "name": "stdout",
     "output_type": "stream",
     "text": [
      "LP_LEBENSPHASE_FEIN has 49651 null values\n",
      "LP_LEBENSPHASE_GROB has 46830 null values\n",
      "WOHNLAGE has 0 null values\n"
     ]
    }
   ],
   "source": [
    "#INVESTIGATE REMAINING MIXED-VARS\n",
    "for feat in mixed_feat:\n",
    "    try: print('{0} has {1} null values'.format(feat, azdias_low[feat].isnull().sum()))\n",
    "    except KeyError: mixed_feat.remove(feat);"
   ]
  },
  {
   "cell_type": "code",
   "execution_count": 39,
   "metadata": {
    "scrolled": true
   },
   "outputs": [
    {
     "name": "stdout",
     "output_type": "stream",
     "text": [
      "LP_LEBENSPHASE_FEIN has 1.0     58722\n",
      "5.0     52400\n",
      "6.0     43334\n",
      "2.0     37148\n",
      "8.0     28837\n",
      "11.0    25369\n",
      "7.0     24950\n",
      "29.0    24880\n",
      "13.0    24811\n",
      "10.0    24469\n",
      "12.0    22275\n",
      "31.0    22261\n",
      "30.0    21147\n",
      "15.0    18966\n",
      "3.0     18756\n",
      "19.0    18586\n",
      "37.0    17500\n",
      "4.0     16478\n",
      "14.0    16354\n",
      "20.0    16287\n",
      "32.0    15763\n",
      "39.0    15132\n",
      "40.0    14108\n",
      "27.0    13800\n",
      "16.0    13633\n",
      "38.0    13099\n",
      "35.0    13011\n",
      "34.0    12422\n",
      "9.0     12111\n",
      "21.0    11966\n",
      "28.0    11543\n",
      "24.0    11309\n",
      "25.0     9849\n",
      "36.0     9656\n",
      "23.0     8628\n",
      "22.0     6831\n",
      "18.0     6805\n",
      "33.0     5724\n",
      "17.0     5487\n",
      "26.0     3368\n",
      "Name: LP_LEBENSPHASE_FEIN, dtype: int64 null values\n",
      "LP_LEBENSPHASE_GROB has 2.0     149521\n",
      "1.0     131104\n",
      "3.0     109623\n",
      "12.0     69495\n",
      "4.0      51186\n",
      "5.0      47165\n",
      "9.0      46027\n",
      "10.0     38024\n",
      "11.0     31157\n",
      "8.0      28711\n",
      "6.0      27425\n",
      "7.0      21158\n",
      "Name: LP_LEBENSPHASE_GROB, dtype: int64 null values\n",
      "WOHNLAGE has 3.0    249592\n",
      "7.0    169269\n",
      "4.0    135906\n",
      "2.0    100328\n",
      "5.0     74305\n",
      "1.0     43891\n",
      "8.0     17394\n",
      "0.0      6741\n",
      "Name: WOHNLAGE, dtype: int64 null values\n",
      "PLZ8_BAUMAX has 1.0    499542\n",
      "5.0     97333\n",
      "2.0     70406\n",
      "4.0     56684\n",
      "3.0     50732\n",
      "Name: PLZ8_BAUMAX, dtype: int64 null values\n"
     ]
    }
   ],
   "source": [
    "for feat in mixed_feat:\n",
    "    print('{0} has {1} null values'.format(feat, azdias_low[feat].value_counts()))"
   ]
  },
  {
   "cell_type": "code",
   "execution_count": 40,
   "metadata": {},
   "outputs": [],
   "source": [
    "rural_map={1:0,2:0,3:0,4:0,5:0,7:1,8:1}\n",
    "azdias_low['RURAL'] = azdias_low['WOHNLAGE'].map(rural_map)\n",
    "azdias_high['RURAL'] = azdias_high['WOHNLAGE'].map(rural_map)"
   ]
  },
  {
   "attachments": {},
   "cell_type": "markdown",
   "metadata": {},
   "source": [
    "#### Step 1.2.3: Complete Feature Selection\n"
   ]
  },
  {
   "cell_type": "code",
   "execution_count": 41,
   "metadata": {},
   "outputs": [
    {
     "name": "stdout",
     "output_type": "stream",
     "text": [
      "cleaning LP_LEBENSPHASE_FEIN:\n",
      "cleaning LP_LEBENSPHASE_GROB:\n",
      "cleaning WOHNLAGE:\n",
      "cleaning PLZ8_BAUMAX:\n",
      "cleaning PRAEGENDE_JUGENDJAHRE:\n",
      "cleaning CAMEO_INTL_2015:\n",
      "cleaning OST_WEST_KZ:\n"
     ]
    }
   ],
   "source": [
    "#double check that features have been dropped\n",
    "one_hot_vars = ['CJT_GESAMTTYP', 'FINANZTYP','GFK_URLAUBERTYP', 'LP_FAMILIE_FEIN', \n",
    "                'LP_FAMILIE_GROB', 'LP_STATUS_FEIN', 'LP_STATUS_GROB', 'NATIONALITAET_KZ', \n",
    "                'SHOPPER_TYP', 'ZABEOTYP', 'GEBAEUDETYP', 'CAMEO_DEUG_2015', 'CAMEO_DEU_2015']\n",
    "drop_categorical = ['KK_KUNDENTYP', 'TITEL_KZ', 'AGER_TYP',\n",
    "                       'LP_LEBENSPHASE_FEIN', 'LP_LEBENSPHASE_GROB', 'WOHNLAGE', 'KBA05_BAUMAX','PLZ8_BAUMAX'] #high error categoricals\n",
    "\n",
    "mixed_cat = ['PRAEGENDE_JUGENDJAHRE', 'CAMEO_INTL_2015']\n",
    "for feature in one_hot_vars+drop_categorical+mixed_cat + ['OST_WEST_KZ']:\n",
    "    if feature in azdias_low.columns:\n",
    "        print('cleaning {0}:'.format(feature))\n",
    "        azdias_low = azdias_low.drop(feature, axis=1)"
   ]
  },
  {
   "cell_type": "markdown",
   "metadata": {},
   "source": [
    "### Step 1.3: Create a Cleaning Function"
   ]
  },
  {
   "cell_type": "code",
   "execution_count": 42,
   "metadata": {},
   "outputs": [],
   "source": [
    "def clean_data(df):\n",
    "    \"\"\"\n",
    "    Perform feature trimming, re-encoding, and engineering for demographics\n",
    "    data\n",
    "    \n",
    "    INPUT: Demographics DataFrame\n",
    "    OUTPUT: Trimmed and cleaned demographics DataFrame\n",
    "    \"\"\"\n",
    "    \n",
    "    '''all main cleaning steps:'''\n",
    "    # convert missing value codes into NaNs, ...\n",
    "    for col in df:\n",
    "        missing_rep = define_missing(feat_info[feat_info['attribute']==col]['missing_or_unknown'].values[0])\n",
    "        if(missing_rep[0] == ''): \n",
    "            df[col] = df[col].replace('', np.nan)\n",
    "        else:\n",
    "            replace_with = [np.nan for i in missing_rep] #create list of None same length as missing_rep\n",
    "            df[col] = df[col].replace(missing_rep, replace_with)\n",
    "    # remove selected columns and rows, ...\n",
    "    features_to_clean = ['AGER_TYP','GEBURTSJAHR','TITEL_KZ', 'ALTER_HH', 'KK_KUNDENTYP',\n",
    "                         'KBA05_BAUMAX']\n",
    "    \n",
    "    df = df.drop(features_to_clean, axis=1)\n",
    "    df['num_null'] = df.isnull().sum(axis=1) #count null for each row\n",
    "    \n",
    "    #keep only low missing value rows\n",
    "    df = df.query('num_null < 21').drop('num_null', axis=1)\n",
    "    \n",
    "    # select, re-encode, and engineer column values.\n",
    "    cat_vars = feat_info[feat_info['type'] == 'categorical']['attribute'].tolist()\n",
    "    mixed_vars = feat_info[feat_info['type'] == 'mixed']['attribute'].tolist()\n",
    "    \n",
    "    #re-encode binary var\n",
    "    df['WEST_KZ'] = df['OST_WEST_KZ'].replace({'W':1, 'O':0})\n",
    "    \n",
    "    #one hot encode\n",
    "    one_hot_vars = ['CJT_GESAMTTYP', 'FINANZTYP','GFK_URLAUBERTYP', 'LP_FAMILIE_FEIN', \n",
    "                'LP_FAMILIE_GROB', 'LP_STATUS_FEIN', 'LP_STATUS_GROB', 'NATIONALITAET_KZ', \n",
    "                'SHOPPER_TYP', 'ZABEOTYP', 'GEBAEUDETYP', 'CAMEO_DEUG_2015', 'CAMEO_DEU_2015']\n",
    "    \n",
    "    for var in one_hot_vars:\n",
    "        imputed_data = imputer_freq(df, var) #fill na-- imputation\n",
    "        encode = pd.get_dummies(imputed_data, prefix=var) #one hot encode\n",
    "\n",
    "        for col in encode.columns: #insert new encoded columns into the dataset\n",
    "            df[col] = encode[col] \n",
    "            \n",
    "    #engineer mixed vars\n",
    "    decade_mapping = {1:40, 2:40,3:50,4:50,5:60,6:60,7:60,8:70,\n",
    "                      9:70,10:80,11:80,12:80,13:80,14:90,15:90}\n",
    "    avantgarde_mapping ={1:0,2:1,3:0,4:1,5:0,6:1,7:1,8:0,\n",
    "                         9:1,10:0,11:1,12:0,13:1,14:0,15:1}\n",
    "    \n",
    "    rural_mapping = {1:0,2:0,3:0,4:0,5:0,7:1,8:1}\n",
    "        #map variables\n",
    "    df['RURAL'] = df['WOHNLAGE'].map(rural_mapping)\n",
    "    df['AVANTGARDE'] = df['PRAEGENDE_JUGENDJAHRE'].map(avantgarde_mapping)\n",
    "    df['YOUTH_DECADE'] = df['PRAEGENDE_JUGENDJAHRE'].map(decade_mapping)\n",
    "    \n",
    "    df['CAMEO_INTL_2015_WEALTH'] = df['CAMEO_INTL_2015'].apply(decode_wealth)\n",
    "    df['CAMEO_INTL_2015_LIFE'] = df['CAMEO_INTL_2015'].apply(decode_life)\n",
    "    \n",
    "    #remove all features either re-encoded, or not needed for analysis\n",
    "    drop_categorical = ['KK_KUNDENTYP', 'TITEL_KZ', 'AGER_TYP',\n",
    "                       'LP_LEBENSPHASE_FEIN', 'LP_LEBENSPHASE_GROB',\n",
    "                        'WOHNLAGE', 'KBA05_BAUMAX','PLZ8_BAUMAX'] #high error categoricals\n",
    "    \n",
    "    shape_before = df.shape[1]\n",
    "    mixed_cat = ['PRAEGENDE_JUGENDJAHRE', 'CAMEO_INTL_2015']\n",
    "    to_drop = one_hot_vars+drop_categorical+mixed_cat+['OST_WEST_KZ']\n",
    "\n",
    "    #already removed in high NaN column cleaning, make sure we dont try to drop again\n",
    "    for removed in ['AGER_TYP','GEBURTSJAHR','TITEL_KZ', 'ALTER_HH', 'KK_KUNDENTYP',\n",
    "                         'KBA05_BAUMAX']:\n",
    "        if removed in to_drop:\n",
    "            to_drop.remove(removed)\n",
    "    \n",
    "    df = df.drop(to_drop, axis=1) \n",
    "\n",
    "    # Return the cleaned dataframe.\n",
    "    \n",
    "    return df\n",
    "    "
   ]
  },
  {
   "attachments": {},
   "cell_type": "markdown",
   "metadata": {},
   "source": [
    "## Step 2: Feature Transformation\n",
    "\n",
    "### Step 2.1: Apply Feature Scaling\n"
   ]
  },
  {
   "cell_type": "code",
   "execution_count": 43,
   "metadata": {},
   "outputs": [
    {
     "data": {
      "text/plain": [
       "count      193.000000\n",
       "mean      3573.564767\n",
       "std      11363.386643\n",
       "min          0.000000\n",
       "25%          0.000000\n",
       "50%          0.000000\n",
       "75%          0.000000\n",
       "max      64433.000000\n",
       "dtype: float64"
      ]
     },
     "execution_count": 43,
     "metadata": {},
     "output_type": "execute_result"
    }
   ],
   "source": [
    "\n",
    "azdias_low.isnull().sum(axis=0).describe()"
   ]
  },
  {
   "cell_type": "code",
   "execution_count": 44,
   "metadata": {},
   "outputs": [
    {
     "data": {
      "text/plain": [
       "ordinal        49\n",
       "categorical    21\n",
       "numeric         7\n",
       "mixed           7\n",
       "interval        1\n",
       "Name: type, dtype: int64"
      ]
     },
     "execution_count": 44,
     "metadata": {},
     "output_type": "execute_result"
    }
   ],
   "source": [
    "feat_info['type'].value_counts()"
   ]
  },
  {
   "cell_type": "code",
   "execution_count": 45,
   "metadata": {},
   "outputs": [],
   "source": [
    "\n",
    "imputer = Imputer(missing_values='NaN', strategy='most_frequent', axis=0)\n",
    "azdias_imputed = pd.DataFrame(imputer.fit_transform(azdias_low),\n",
    "                              index=azdias_low.index, columns=azdias_low.columns)\n",
    "\n",
    "#end result is new imputed DF"
   ]
  },
  {
   "cell_type": "code",
   "execution_count": 46,
   "metadata": {},
   "outputs": [
    {
     "data": {
      "text/plain": [
       "count    797426.0\n",
       "mean          0.0\n",
       "std           0.0\n",
       "min           0.0\n",
       "25%           0.0\n",
       "50%           0.0\n",
       "75%           0.0\n",
       "max           0.0\n",
       "dtype: float64"
      ]
     },
     "execution_count": 46,
     "metadata": {},
     "output_type": "execute_result"
    }
   ],
   "source": [
    "azdias_imputed.isnull().sum(axis=1).describe()\n",
    "#check that no more null"
   ]
  },
  {
   "cell_type": "code",
   "execution_count": 47,
   "metadata": {},
   "outputs": [],
   "source": [
    "# Apply feature scaling to the general population demographics data.\n",
    "scaler = StandardScaler()\n",
    "\n",
    "azdias_scaled = pd.DataFrame(scaler.fit_transform(azdias_imputed),\n",
    "                              index=azdias_imputed.index, columns=azdias_imputed.columns)"
   ]
  },
  {
   "cell_type": "code",
   "execution_count": 48,
   "metadata": {},
   "outputs": [
    {
     "data": {
      "text/html": [
       "<div>\n",
       "<style>\n",
       "    .dataframe thead tr:only-child th {\n",
       "        text-align: right;\n",
       "    }\n",
       "\n",
       "    .dataframe thead th {\n",
       "        text-align: left;\n",
       "    }\n",
       "\n",
       "    .dataframe tbody tr th {\n",
       "        vertical-align: top;\n",
       "    }\n",
       "</style>\n",
       "<table border=\"1\" class=\"dataframe\">\n",
       "  <thead>\n",
       "    <tr style=\"text-align: right;\">\n",
       "      <th></th>\n",
       "      <th>ALTERSKATEGORIE_GROB</th>\n",
       "      <th>ANREDE_KZ</th>\n",
       "      <th>FINANZ_MINIMALIST</th>\n",
       "      <th>FINANZ_SPARER</th>\n",
       "      <th>FINANZ_VORSORGER</th>\n",
       "      <th>FINANZ_ANLEGER</th>\n",
       "      <th>FINANZ_UNAUFFAELLIGER</th>\n",
       "      <th>FINANZ_HAUSBAUER</th>\n",
       "      <th>GREEN_AVANTGARDE</th>\n",
       "      <th>HEALTH_TYP</th>\n",
       "      <th>...</th>\n",
       "      <th>CAMEO_DEU_2015_9A</th>\n",
       "      <th>CAMEO_DEU_2015_9B</th>\n",
       "      <th>CAMEO_DEU_2015_9C</th>\n",
       "      <th>CAMEO_DEU_2015_9D</th>\n",
       "      <th>CAMEO_DEU_2015_9E</th>\n",
       "      <th>AVANTGARDE</th>\n",
       "      <th>YOUTH_DECADE</th>\n",
       "      <th>CAMEO_INTL_2015_WEALTH</th>\n",
       "      <th>CAMEO_INTL_2015_LIFE</th>\n",
       "      <th>RURAL</th>\n",
       "    </tr>\n",
       "  </thead>\n",
       "  <tbody>\n",
       "    <tr>\n",
       "      <th>count</th>\n",
       "      <td>7.974260e+05</td>\n",
       "      <td>7.974260e+05</td>\n",
       "      <td>7.974260e+05</td>\n",
       "      <td>7.974260e+05</td>\n",
       "      <td>7.974260e+05</td>\n",
       "      <td>7.974260e+05</td>\n",
       "      <td>7.974260e+05</td>\n",
       "      <td>7.974260e+05</td>\n",
       "      <td>7.974260e+05</td>\n",
       "      <td>7.974260e+05</td>\n",
       "      <td>...</td>\n",
       "      <td>7.974260e+05</td>\n",
       "      <td>7.974260e+05</td>\n",
       "      <td>7.974260e+05</td>\n",
       "      <td>7.974260e+05</td>\n",
       "      <td>7.974260e+05</td>\n",
       "      <td>7.974260e+05</td>\n",
       "      <td>7.974260e+05</td>\n",
       "      <td>7.974260e+05</td>\n",
       "      <td>7.974260e+05</td>\n",
       "      <td>7.974260e+05</td>\n",
       "    </tr>\n",
       "    <tr>\n",
       "      <th>mean</th>\n",
       "      <td>8.509483e-17</td>\n",
       "      <td>8.277811e-17</td>\n",
       "      <td>1.346548e-16</td>\n",
       "      <td>-8.425725e-17</td>\n",
       "      <td>-3.776250e-17</td>\n",
       "      <td>-9.630418e-17</td>\n",
       "      <td>1.835286e-16</td>\n",
       "      <td>-8.126334e-17</td>\n",
       "      <td>-1.561111e-17</td>\n",
       "      <td>-8.625319e-17</td>\n",
       "      <td>...</td>\n",
       "      <td>-2.060988e-17</td>\n",
       "      <td>3.715659e-18</td>\n",
       "      <td>-1.407852e-18</td>\n",
       "      <td>1.045464e-16</td>\n",
       "      <td>5.556559e-17</td>\n",
       "      <td>-1.561111e-17</td>\n",
       "      <td>-3.827753e-16</td>\n",
       "      <td>4.856197e-17</td>\n",
       "      <td>4.130886e-17</td>\n",
       "      <td>3.727688e-17</td>\n",
       "    </tr>\n",
       "    <tr>\n",
       "      <th>std</th>\n",
       "      <td>1.000001e+00</td>\n",
       "      <td>1.000001e+00</td>\n",
       "      <td>1.000001e+00</td>\n",
       "      <td>1.000001e+00</td>\n",
       "      <td>1.000001e+00</td>\n",
       "      <td>1.000001e+00</td>\n",
       "      <td>1.000001e+00</td>\n",
       "      <td>1.000001e+00</td>\n",
       "      <td>1.000001e+00</td>\n",
       "      <td>1.000001e+00</td>\n",
       "      <td>...</td>\n",
       "      <td>1.000001e+00</td>\n",
       "      <td>1.000001e+00</td>\n",
       "      <td>1.000001e+00</td>\n",
       "      <td>1.000001e+00</td>\n",
       "      <td>1.000001e+00</td>\n",
       "      <td>1.000001e+00</td>\n",
       "      <td>1.000001e+00</td>\n",
       "      <td>1.000001e+00</td>\n",
       "      <td>1.000001e+00</td>\n",
       "      <td>1.000001e+00</td>\n",
       "    </tr>\n",
       "    <tr>\n",
       "      <th>min</th>\n",
       "      <td>-1.766334e+00</td>\n",
       "      <td>-1.043765e+00</td>\n",
       "      <td>-1.494609e+00</td>\n",
       "      <td>-1.155304e+00</td>\n",
       "      <td>-1.766955e+00</td>\n",
       "      <td>-1.249881e+00</td>\n",
       "      <td>-1.184467e+00</td>\n",
       "      <td>-1.502317e+00</td>\n",
       "      <td>-5.305674e-01</td>\n",
       "      <td>-1.633717e+00</td>\n",
       "      <td>...</td>\n",
       "      <td>-1.625923e-01</td>\n",
       "      <td>-1.895778e-01</td>\n",
       "      <td>-1.798523e-01</td>\n",
       "      <td>-1.928439e-01</td>\n",
       "      <td>-8.974298e-02</td>\n",
       "      <td>-5.305674e-01</td>\n",
       "      <td>-2.316187e+00</td>\n",
       "      <td>-1.551476e+00</td>\n",
       "      <td>-1.249157e+00</td>\n",
       "      <td>-5.528315e-01</td>\n",
       "    </tr>\n",
       "    <tr>\n",
       "      <th>25%</th>\n",
       "      <td>-7.828722e-01</td>\n",
       "      <td>-1.043765e+00</td>\n",
       "      <td>-7.686897e-01</td>\n",
       "      <td>-1.155304e+00</td>\n",
       "      <td>-1.040726e+00</td>\n",
       "      <td>-1.249881e+00</td>\n",
       "      <td>-1.184467e+00</td>\n",
       "      <td>-7.920337e-01</td>\n",
       "      <td>-5.305674e-01</td>\n",
       "      <td>-3.116745e-01</td>\n",
       "      <td>...</td>\n",
       "      <td>-1.625923e-01</td>\n",
       "      <td>-1.895778e-01</td>\n",
       "      <td>-1.798523e-01</td>\n",
       "      <td>-1.928439e-01</td>\n",
       "      <td>-8.974298e-02</td>\n",
       "      <td>-5.305674e-01</td>\n",
       "      <td>-9.502996e-01</td>\n",
       "      <td>-8.696736e-01</td>\n",
       "      <td>-1.249157e+00</td>\n",
       "      <td>-5.528315e-01</td>\n",
       "    </tr>\n",
       "    <tr>\n",
       "      <th>50%</th>\n",
       "      <td>2.005893e-01</td>\n",
       "      <td>9.580705e-01</td>\n",
       "      <td>-4.276997e-02</td>\n",
       "      <td>1.914482e-01</td>\n",
       "      <td>4.117312e-01</td>\n",
       "      <td>1.082835e-01</td>\n",
       "      <td>-4.697522e-01</td>\n",
       "      <td>-8.175029e-02</td>\n",
       "      <td>-5.305674e-01</td>\n",
       "      <td>-3.116745e-01</td>\n",
       "      <td>...</td>\n",
       "      <td>-1.625923e-01</td>\n",
       "      <td>-1.895778e-01</td>\n",
       "      <td>-1.798523e-01</td>\n",
       "      <td>-1.928439e-01</td>\n",
       "      <td>-8.974298e-02</td>\n",
       "      <td>-5.305674e-01</td>\n",
       "      <td>4.155877e-01</td>\n",
       "      <td>4.939317e-01</td>\n",
       "      <td>9.484474e-02</td>\n",
       "      <td>-5.528315e-01</td>\n",
       "    </tr>\n",
       "    <tr>\n",
       "      <th>75%</th>\n",
       "      <td>1.184051e+00</td>\n",
       "      <td>9.580705e-01</td>\n",
       "      <td>6.831497e-01</td>\n",
       "      <td>8.648242e-01</td>\n",
       "      <td>1.137960e+00</td>\n",
       "      <td>7.873659e-01</td>\n",
       "      <td>9.596769e-01</td>\n",
       "      <td>6.285331e-01</td>\n",
       "      <td>-5.305674e-01</td>\n",
       "      <td>1.010368e+00</td>\n",
       "      <td>...</td>\n",
       "      <td>-1.625923e-01</td>\n",
       "      <td>-1.895778e-01</td>\n",
       "      <td>-1.798523e-01</td>\n",
       "      <td>-1.928439e-01</td>\n",
       "      <td>-8.974298e-02</td>\n",
       "      <td>-5.305674e-01</td>\n",
       "      <td>1.098531e+00</td>\n",
       "      <td>1.175734e+00</td>\n",
       "      <td>7.668454e-01</td>\n",
       "      <td>-5.528315e-01</td>\n",
       "    </tr>\n",
       "    <tr>\n",
       "      <th>max</th>\n",
       "      <td>1.184051e+00</td>\n",
       "      <td>9.580705e-01</td>\n",
       "      <td>1.409069e+00</td>\n",
       "      <td>1.538200e+00</td>\n",
       "      <td>1.137960e+00</td>\n",
       "      <td>1.466448e+00</td>\n",
       "      <td>1.674391e+00</td>\n",
       "      <td>1.338816e+00</td>\n",
       "      <td>1.884775e+00</td>\n",
       "      <td>1.010368e+00</td>\n",
       "      <td>...</td>\n",
       "      <td>6.150354e+00</td>\n",
       "      <td>5.274880e+00</td>\n",
       "      <td>5.560118e+00</td>\n",
       "      <td>5.185540e+00</td>\n",
       "      <td>1.114293e+01</td>\n",
       "      <td>1.884775e+00</td>\n",
       "      <td>1.098531e+00</td>\n",
       "      <td>1.175734e+00</td>\n",
       "      <td>1.438846e+00</td>\n",
       "      <td>1.808870e+00</td>\n",
       "    </tr>\n",
       "  </tbody>\n",
       "</table>\n",
       "<p>8 rows × 193 columns</p>\n",
       "</div>"
      ],
      "text/plain": [
       "       ALTERSKATEGORIE_GROB     ANREDE_KZ  FINANZ_MINIMALIST  FINANZ_SPARER  \\\n",
       "count          7.974260e+05  7.974260e+05       7.974260e+05   7.974260e+05   \n",
       "mean           8.509483e-17  8.277811e-17       1.346548e-16  -8.425725e-17   \n",
       "std            1.000001e+00  1.000001e+00       1.000001e+00   1.000001e+00   \n",
       "min           -1.766334e+00 -1.043765e+00      -1.494609e+00  -1.155304e+00   \n",
       "25%           -7.828722e-01 -1.043765e+00      -7.686897e-01  -1.155304e+00   \n",
       "50%            2.005893e-01  9.580705e-01      -4.276997e-02   1.914482e-01   \n",
       "75%            1.184051e+00  9.580705e-01       6.831497e-01   8.648242e-01   \n",
       "max            1.184051e+00  9.580705e-01       1.409069e+00   1.538200e+00   \n",
       "\n",
       "       FINANZ_VORSORGER  FINANZ_ANLEGER  FINANZ_UNAUFFAELLIGER  \\\n",
       "count      7.974260e+05    7.974260e+05           7.974260e+05   \n",
       "mean      -3.776250e-17   -9.630418e-17           1.835286e-16   \n",
       "std        1.000001e+00    1.000001e+00           1.000001e+00   \n",
       "min       -1.766955e+00   -1.249881e+00          -1.184467e+00   \n",
       "25%       -1.040726e+00   -1.249881e+00          -1.184467e+00   \n",
       "50%        4.117312e-01    1.082835e-01          -4.697522e-01   \n",
       "75%        1.137960e+00    7.873659e-01           9.596769e-01   \n",
       "max        1.137960e+00    1.466448e+00           1.674391e+00   \n",
       "\n",
       "       FINANZ_HAUSBAUER  GREEN_AVANTGARDE    HEALTH_TYP      ...       \\\n",
       "count      7.974260e+05      7.974260e+05  7.974260e+05      ...        \n",
       "mean      -8.126334e-17     -1.561111e-17 -8.625319e-17      ...        \n",
       "std        1.000001e+00      1.000001e+00  1.000001e+00      ...        \n",
       "min       -1.502317e+00     -5.305674e-01 -1.633717e+00      ...        \n",
       "25%       -7.920337e-01     -5.305674e-01 -3.116745e-01      ...        \n",
       "50%       -8.175029e-02     -5.305674e-01 -3.116745e-01      ...        \n",
       "75%        6.285331e-01     -5.305674e-01  1.010368e+00      ...        \n",
       "max        1.338816e+00      1.884775e+00  1.010368e+00      ...        \n",
       "\n",
       "       CAMEO_DEU_2015_9A  CAMEO_DEU_2015_9B  CAMEO_DEU_2015_9C  \\\n",
       "count       7.974260e+05       7.974260e+05       7.974260e+05   \n",
       "mean       -2.060988e-17       3.715659e-18      -1.407852e-18   \n",
       "std         1.000001e+00       1.000001e+00       1.000001e+00   \n",
       "min        -1.625923e-01      -1.895778e-01      -1.798523e-01   \n",
       "25%        -1.625923e-01      -1.895778e-01      -1.798523e-01   \n",
       "50%        -1.625923e-01      -1.895778e-01      -1.798523e-01   \n",
       "75%        -1.625923e-01      -1.895778e-01      -1.798523e-01   \n",
       "max         6.150354e+00       5.274880e+00       5.560118e+00   \n",
       "\n",
       "       CAMEO_DEU_2015_9D  CAMEO_DEU_2015_9E    AVANTGARDE  YOUTH_DECADE  \\\n",
       "count       7.974260e+05       7.974260e+05  7.974260e+05  7.974260e+05   \n",
       "mean        1.045464e-16       5.556559e-17 -1.561111e-17 -3.827753e-16   \n",
       "std         1.000001e+00       1.000001e+00  1.000001e+00  1.000001e+00   \n",
       "min        -1.928439e-01      -8.974298e-02 -5.305674e-01 -2.316187e+00   \n",
       "25%        -1.928439e-01      -8.974298e-02 -5.305674e-01 -9.502996e-01   \n",
       "50%        -1.928439e-01      -8.974298e-02 -5.305674e-01  4.155877e-01   \n",
       "75%        -1.928439e-01      -8.974298e-02 -5.305674e-01  1.098531e+00   \n",
       "max         5.185540e+00       1.114293e+01  1.884775e+00  1.098531e+00   \n",
       "\n",
       "       CAMEO_INTL_2015_WEALTH  CAMEO_INTL_2015_LIFE         RURAL  \n",
       "count            7.974260e+05          7.974260e+05  7.974260e+05  \n",
       "mean             4.856197e-17          4.130886e-17  3.727688e-17  \n",
       "std              1.000001e+00          1.000001e+00  1.000001e+00  \n",
       "min             -1.551476e+00         -1.249157e+00 -5.528315e-01  \n",
       "25%             -8.696736e-01         -1.249157e+00 -5.528315e-01  \n",
       "50%              4.939317e-01          9.484474e-02 -5.528315e-01  \n",
       "75%              1.175734e+00          7.668454e-01 -5.528315e-01  \n",
       "max              1.175734e+00          1.438846e+00  1.808870e+00  \n",
       "\n",
       "[8 rows x 193 columns]"
      ]
     },
     "execution_count": 48,
     "metadata": {},
     "output_type": "execute_result"
    }
   ],
   "source": [
    "azdias_scaled.describe()"
   ]
  },
  {
   "attachments": {},
   "cell_type": "markdown",
   "metadata": {},
   "source": [
    "### Step 2.2: Perform Dimensionality Reduction\n",
    "\n",
    "Apply PCA on scaled data\n"
   ]
  },
  {
   "cell_type": "code",
   "execution_count": 49,
   "metadata": {},
   "outputs": [],
   "source": [
    "# Apply PCA to the data.\n",
    "pca = PCA()\n",
    "pca_fit = pca.fit(azdias_scaled)"
   ]
  },
  {
   "cell_type": "code",
   "execution_count": 50,
   "metadata": {},
   "outputs": [],
   "source": [
    "def scree_plot(pca): ##code from helper_functions.py in PCA lesson\n",
    "    '''\n",
    "    Creates a scree plot associated with the principal components \n",
    "    \n",
    "    INPUT: pca - the result of instantian of PCA in scikit learn\n",
    "            \n",
    "    RETURN: None\n",
    "    '''\n",
    "    num_components= len(pca.explained_variance_ratio_)\n",
    "    idx = np.arange(num_components)\n",
    "    vals = pca.explained_variance_ratio_\n",
    " \n",
    "    plt.figure(figsize=(15, 10))\n",
    "    ax = plt.subplot(111)\n",
    "    cumvals = np.cumsum(vals)\n",
    "    ax.bar(idx, vals)\n",
    "    ax.plot(idx, cumvals)\n",
    "    for i in range(num_components):\n",
    "        if(i%20 == 0 or i<6):\n",
    "            ax.annotate(r\"%s%%\" % ((str(vals[i]*100)[:4])), (idx[i]+0.2, vals[i]), va=\"bottom\", ha=\"center\", fontsize=8)\n",
    " \n",
    "    ax.xaxis.set_tick_params(width=0, gridOn=True)\n",
    "    ax.yaxis.set_tick_params(width=2, length=12, gridOn=True)\n",
    " \n",
    "    ax.set_xlabel(\"Principal Component\")\n",
    "    ax.set_ylabel(\"Variance Explained (%)\")\n",
    "    plt.title('Explained Variance Per Principal Component')"
   ]
  },
  {
   "cell_type": "code",
   "execution_count": 51,
   "metadata": {},
   "outputs": [
    {
     "data": {
      "image/png": "[encoded data removed]",
      "text/plain": [
       "<matplotlib.figure.Figure at 0x7f6181aeafd0>"
      ]
     },
     "metadata": {},
     "output_type": "display_data"
    }
   ],
   "source": [
    "# Investigate the variance accounted for by each principal component.\n",
    "scree_plot(pca_fit)"
   ]
  },
  {
   "cell_type": "code",
   "execution_count": 65,
   "metadata": {},
   "outputs": [],
   "source": [
    "# Re-apply PCA to the data while selecting for number of components to retain.\n",
    "pca = PCA(n_components=75)\n",
    "pca.fit(azdias_scaled)\n",
    "pca_data = pca.transform(azdias_scaled)"
   ]
  },
  {
   "cell_type": "code",
   "execution_count": 63,
   "metadata": {},
   "outputs": [
    {
     "data": {
      "text/plain": [
       "(797426, 75)"
      ]
     },
     "execution_count": 63,
     "metadata": {},
     "output_type": "execute_result"
    }
   ],
   "source": [
    "pca_data.shape"
   ]
  },
  {
   "attachments": {},
   "cell_type": "markdown",
   "metadata": {},
   "source": [
    "### Step 2.3: Interpret Principal Components\n"
   ]
  },
  {
   "cell_type": "code",
   "execution_count": 64,
   "metadata": {},
   "outputs": [],
   "source": [
    "def investigate_PC(pca, component, feature_names):\n",
    "    #code inspired by helper_functions.py in PCA lesson\n",
    "    '''\n",
    "    Prints association of a feature to the weights of its components\n",
    "    INPUT: pca: PCA object, compnent: which component is to be investigated (0 indexed),\n",
    "            feature_names: the corresponding feature names to PCA\n",
    "    OUTPUT: None\n",
    "    '''\n",
    "    \n",
    "    num_out = 10\n",
    "    \n",
    "    if(component <= len(pca.components_)):\n",
    "        pca_feature_map = pd.DataFrame({'weight': pca.components_[component],\n",
    "                                        'name': feature_names})\n",
    "        \n",
    "        pca_feature_map = pca_feature_map.sort_values(by='weight', ascending=False)\n",
    "        \n",
    "        print('Principal Component {}\\n---------------\\n'.format(component+1))\n",
    "        print('TOP {0} PRINCIPAL COMPONENTS \\n {1}'.format(num_out, pca_feature_map.iloc[:num_out,:]))\n",
    "        print('\\n BOTTOM {0} PRINCIPAL COMPONENTS \\n {1}'.format(num_out, pca_feature_map.iloc[-num_out:,:]))\n",
    "            \n",
    "    else:\n",
    "        print('Error in selecting component')\n",
    "    "
   ]
  },
  {
   "cell_type": "code",
   "execution_count": 65,
   "metadata": {},
   "outputs": [
    {
     "name": "stdout",
     "output_type": "stream",
     "text": [
      "Principal Component 1\n",
      "---------------\n",
      "\n",
      "TOP 10 PRINCIPAL COMPONENTS \n",
      "                        name    weight\n",
      "110      LP_STATUS_GROB_1.0  0.196198\n",
      "29       HH_EINKOMMEN_SCORE  0.184257\n",
      "190  CAMEO_INTL_2015_WEALTH  0.184198\n",
      "52               PLZ8_ANTG3  0.182683\n",
      "53               PLZ8_ANTG4  0.175970\n",
      "57              ORTSGR_KLS9  0.158971\n",
      "42                 EWDICHTE  0.156777\n",
      "7          FINANZ_HAUSBAUER  0.147975\n",
      "39              KBA05_ANTG4  0.129277\n",
      "100      LP_STATUS_FEIN_1.0  0.126992\n",
      "\n",
      " BOTTOM 10 PRINCIPAL COMPONENTS \n",
      "                    name    weight\n",
      "113  LP_STATUS_GROB_4.0 -0.112923\n",
      "192               RURAL -0.115940\n",
      "43           INNENSTADT -0.129658\n",
      "55             PLZ8_GBZ -0.132682\n",
      "34          KONSUMNAEHE -0.137710\n",
      "36          KBA05_ANTG1 -0.180067\n",
      "40            KBA05_GBZ -0.181211\n",
      "50           PLZ8_ANTG1 -0.183000\n",
      "46           MOBI_REGIO -0.187957\n",
      "2     FINANZ_MINIMALIST -0.191273\n"
     ]
    }
   ],
   "source": [
    "\n",
    "investigate_PC(pca, 0, azdias_scaled.columns)"
   ]
  },
  {
   "cell_type": "code",
   "execution_count": 66,
   "metadata": {},
   "outputs": [
    {
     "name": "stdout",
     "output_type": "stream",
     "text": [
      "Principal Component 2\n",
      "---------------\n",
      "\n",
      "TOP 10 PRINCIPAL COMPONENTS \n",
      "                      name    weight\n",
      "0    ALTERSKATEGORIE_GROB  0.232889\n",
      "4        FINANZ_VORSORGER  0.218994\n",
      "124            ZABEOTYP_3  0.199978\n",
      "17              SEMIO_ERL  0.180259\n",
      "16             SEMIO_LUST  0.163505\n",
      "10         RETOURTYP_BK_S  0.155426\n",
      "30         W_KEIT_KIND_HH  0.123088\n",
      "61      CJT_GESAMTTYP_2.0  0.108279\n",
      "70            FINANZTYP_5  0.098996\n",
      "100    LP_STATUS_FEIN_1.0  0.097016\n",
      "\n",
      " BOTTOM 10 PRINCIPAL COMPONENTS \n",
      "                       name    weight\n",
      "47       ONLINE_AFFINITAET -0.161964\n",
      "18              SEMIO_KULT -0.165087\n",
      "19               SEMIO_RAT -0.168245\n",
      "5           FINANZ_ANLEGER -0.204721\n",
      "23           SEMIO_PFLICHT -0.205375\n",
      "24             SEMIO_TRADV -0.208003\n",
      "13               SEMIO_REL -0.214557\n",
      "6    FINANZ_UNAUFFAELLIGER -0.214972\n",
      "3            FINANZ_SPARER -0.227059\n",
      "189           YOUTH_DECADE -0.230622\n"
     ]
    }
   ],
   "source": [
    "\n",
    "investigate_PC(pca, 1, azdias_scaled.columns)"
   ]
  },
  {
   "cell_type": "code",
   "execution_count": 67,
   "metadata": {},
   "outputs": [
    {
     "name": "stdout",
     "output_type": "stream",
     "text": [
      "Principal Component 3\n",
      "---------------\n",
      "\n",
      "TOP 10 PRINCIPAL COMPONENTS \n",
      "                   name    weight\n",
      "15          SEMIO_VERT  0.316899\n",
      "12           SEMIO_FAM  0.258536\n",
      "11           SEMIO_SOZ  0.255493\n",
      "18          SEMIO_KULT  0.249721\n",
      "70         FINANZTYP_5  0.137373\n",
      "2    FINANZ_MINIMALIST  0.130359\n",
      "118    SHOPPER_TYP_0.0  0.122717\n",
      "122         ZABEOTYP_1  0.119285\n",
      "13           SEMIO_REL  0.113028\n",
      "14           SEMIO_MAT  0.088319\n",
      "\n",
      " BOTTOM 10 PRINCIPAL COMPONENTS \n",
      "                    name    weight\n",
      "101  LP_STATUS_FEIN_2.0 -0.079073\n",
      "120     SHOPPER_TYP_2.0 -0.092057\n",
      "66          FINANZTYP_1 -0.099714\n",
      "19            SEMIO_RAT -0.152760\n",
      "5        FINANZ_ANLEGER -0.155240\n",
      "17            SEMIO_ERL -0.207281\n",
      "20           SEMIO_KRIT -0.266130\n",
      "21            SEMIO_DOM -0.279330\n",
      "22           SEMIO_KAEM -0.311478\n",
      "1             ANREDE_KZ -0.342268\n"
     ]
    }
   ],
   "source": [
    "\n",
    "investigate_PC(pca, 2, azdias_scaled.columns)"
   ]
  },
  {
   "attachments": {},
   "cell_type": "markdown",
   "metadata": {},
   "source": [
    "## Step 3: Clustering\n",
    "\n",
    "### Step 3.1: Apply Clustering to General Population\n"
   ]
  },
  {
   "cell_type": "code",
   "execution_count": 69,
   "metadata": {},
   "outputs": [],
   "source": [
    "model_score=[]\n",
    "clusters = [2,4,6,8,10,12,14,16,18,20]\n",
    "# Over a number of different cluster counts...\n",
    "for i in clusters:\n",
    "    # run k-means clustering on the data and...\n",
    "    kmeans = KMeans(i).fit(pca_data)\n",
    "    \n",
    "    # compute the average within-cluster distances.\n",
    "    model_score.append(abs(kmeans.score(pca_data)))\n",
    "    "
   ]
  },
  {
   "cell_type": "code",
   "execution_count": 101,
   "metadata": {},
   "outputs": [
    {
     "data": {
      "image/png": "[encoded data removed]",
      "text/plain": [
       "<matplotlib.figure.Figure at 0x7f0aac3f6438>"
      ]
     },
     "metadata": {},
     "output_type": "display_data"
    }
   ],
   "source": [
    "\n",
    "fig, ax = plt.subplots()\n",
    "ax.plot(clusters, model_score)\n",
    "ax.set(ylabel='avg distance', xlabel='# Clusters: k')\n",
    "ax.grid()\n",
    "plt.xticks(np.arange(2,21,2))\n",
    "plt.show()"
   ]
  },
  {
   "cell_type": "code",
   "execution_count": 71,
   "metadata": {},
   "outputs": [
    {
     "data": {
      "text/plain": [
       "(797426, 75)"
      ]
     },
     "execution_count": 71,
     "metadata": {},
     "output_type": "execute_result"
    }
   ],
   "source": [
    "pca_data.shape"
   ]
  },
  {
   "cell_type": "code",
   "execution_count": 66,
   "metadata": {},
   "outputs": [],
   "source": [
    "# Re-fit the k-means model with the selected number of clusters and obtain\n",
    "# cluster predictions for the general population demographics data.\n",
    "kmeans = KMeans(10).fit(pca_data)\n",
    "kmeans_pred = kmeans.predict(pca_data)"
   ]
  },
  {
   "attachments": {},
   "cell_type": "markdown",
   "metadata": {},
   "source": [
    "### Step 3.2: Apply All Steps to the Customer Data\n"
   ]
  },
  {
   "cell_type": "code",
   "execution_count": 73,
   "metadata": {},
   "outputs": [],
   "source": [
    "# Load in the customer demographics data.\n",
    "customers = pd.read_csv('Udacity_CUSTOMERS_Subset.csv', sep=';')"
   ]
  },
  {
   "cell_type": "code",
   "execution_count": 74,
   "metadata": {},
   "outputs": [],
   "source": [
    "\n",
    "customers_cleaned = clean_data(customers)"
   ]
  },
  {
   "cell_type": "code",
   "execution_count": 77,
   "metadata": {},
   "outputs": [
    {
     "name": "stdout",
     "output_type": "stream",
     "text": [
      "GEBAEUDETYP_5.0\n"
     ]
    }
   ],
   "source": [
    "for column in azdias_scaled.columns:\n",
    "    if column not in customers_cleaned.columns:\n",
    "        print(column)"
   ]
  },
  {
   "cell_type": "code",
   "execution_count": 78,
   "metadata": {},
   "outputs": [],
   "source": [
    "customers_cleaned['GEBAEUDETYP_5.0'] = 0\n",
    "#this column was missing from customer dataset after one-hot encoding"
   ]
  },
  {
   "cell_type": "code",
   "execution_count": 79,
   "metadata": {},
   "outputs": [
    {
     "data": {
      "text/plain": [
       "KMeans(algorithm='auto', copy_x=True, init='k-means++', max_iter=300,\n",
       "    n_clusters=10, n_init=10, n_jobs=1, precompute_distances='auto',\n",
       "    random_state=None, tol=0.0001, verbose=0)"
      ]
     },
     "execution_count": 79,
     "metadata": {},
     "output_type": "execute_result"
    }
   ],
   "source": [
    "kmeans"
   ]
  },
  {
   "cell_type": "code",
   "execution_count": 80,
   "metadata": {},
   "outputs": [],
   "source": [
    "customer_reduced = pca.transform(scaler.transform(imputer.transform(customers_cleaned)))\n",
    "\n",
    "customer_clusters = kmeans.predict(customer_reduced)"
   ]
  },
  {
   "attachments": {},
   "cell_type": "markdown",
   "metadata": {},
   "source": [
    "### Step 3.3: Compare Customer Data to Demographics Data\n"
   ]
  },
  {
   "cell_type": "code",
   "execution_count": 81,
   "metadata": {},
   "outputs": [],
   "source": [
    "gen_pop = azdias_scaled.shape[0]\n",
    "gen_pop_all = azdias.shape[0] #including all dropped high NaN data\n",
    "\n",
    "customer_pop = customers_cleaned.shape[0]\n",
    "customer_pop_all = customers.shape[0] #including all customers with high NaN data\n",
    "\n",
    "gen_pop_cluster_count = np.bincount(kmeans_pred)\n",
    "customer_cluster_count = np.bincount(customer_clusters)\n",
    "\n",
    "gen_pop_cluster_prop = [x/gen_pop for x in gen_pop_cluster_count]\n",
    "customer_cluster_prop = [x/customer_pop for x in customer_cluster_count]"
   ]
  },
  {
   "cell_type": "code",
   "execution_count": 82,
   "metadata": {},
   "outputs": [],
   "source": [
    "prop_data = pd.DataFrame({'gen_pop': gen_pop_cluster_prop, 'customers': customer_cluster_prop}, index=np.arange(1,11))\n",
    "prop_data.index.names=['Cluster']"
   ]
  },
  {
   "cell_type": "code",
   "execution_count": 83,
   "metadata": {},
   "outputs": [],
   "source": [
    "#create data frame where each entry in `gen_pop` is % of gen_pop in a cluster\n",
    "# each entry in `customers` is% of customer population in a cluster\n",
    "prop_data_all = pd.DataFrame({'gen_pop': [x/gen_pop_all for x in gen_pop_cluster_count], \n",
    "                              'customers': [x/customer_pop_all for x in customer_cluster_count]},\n",
    "                             index=np.arange(1,11))\n",
    "prop_data_all.index.names=['Cluster']"
   ]
  },
  {
   "cell_type": "code",
   "execution_count": 107,
   "metadata": {},
   "outputs": [
    {
     "data": {
      "text/plain": [
       "<matplotlib.figure.Figure at 0x7f0aac8cee10>"
      ]
     },
     "metadata": {},
     "output_type": "display_data"
    },
    {
     "data": {
      "image/png": "[encoded data removed]",
      "text/plain": [
       "<matplotlib.figure.Figure at 0x7f0aac8ceb38>"
      ]
     },
     "metadata": {},
     "output_type": "display_data"
    }
   ],
   "source": [
    "'''CLUSTER COUNT - LOW NAN DATA'''\n",
    "\n",
    "plt.figure(figsize=(10,5)) # this creates a figure 14 inch wide, 4 inch high\n",
    "fig, (ax1, ax2) = plt.subplots(1,2, sharey=False)\n",
    "fig.suptitle('Cluster COUNT - Low NaN Data')\n",
    "ax1.set_title('General Population')\n",
    "ax2.set_title('Customer Population')\n",
    "sns.countplot(kmeans_pred+1, ax=ax1)\n",
    "sns.countplot(customer_clusters+1, ax=ax2)\n",
    "plt.show()"
   ]
  },
  {
   "cell_type": "code",
   "execution_count": 106,
   "metadata": {},
   "outputs": [
    {
     "data": {
      "text/plain": [
       "<matplotlib.figure.Figure at 0x7f0aacce49b0>"
      ]
     },
     "metadata": {},
     "output_type": "display_data"
    },
    {
     "data": {
      "image/png": "[encoded data removed]",
      "text/plain": [
       "<matplotlib.figure.Figure at 0x7f0aacce4860>"
      ]
     },
     "metadata": {},
     "output_type": "display_data"
    }
   ],
   "source": [
    "'''CLUSTER PROPORTION - LOW NAN DATA'''\n",
    "\n",
    "plt.figure(figsize=(14,4)) # this creates a figure 14 inch wide, 4 inch high\n",
    "fig, (ax1, ax2) = plt.subplots(1,2, sharey=True)\n",
    "fig.suptitle('Cluster PROPORTION - Low NaN Data')\n",
    "ax1.set_title('General Population')\n",
    "ax2.set_title('Customer Population')\n",
    "sns.barplot(x=prop_data.index, y=prop_data.gen_pop, ax=ax1)\n",
    "sns.barplot(x=prop_data.index, y=prop_data.customers, ax=ax2)\n",
    "plt.show()"
   ]
  },
  {
   "cell_type": "code",
   "execution_count": 86,
   "metadata": {},
   "outputs": [
    {
     "data": {
      "text/plain": [
       "<matplotlib.figure.Figure at 0x7f0ab14acf28>"
      ]
     },
     "metadata": {},
     "output_type": "display_data"
    },
    {
     "data": {
      "image/png": "[encoded data removed]",
      "text/plain": [
       "<matplotlib.figure.Figure at 0x7f0ab14c31d0>"
      ]
     },
     "metadata": {},
     "output_type": "display_data"
    }
   ],
   "source": [
    "'''CLUSTER PROPORTION - ALL DATA'''\n",
    "\n",
    "plt.figure(figsize=(14,4)) # this creates a figure 14 inch wide, 4 inch high\n",
    "fig, (ax1, ax2) = plt.subplots(1,2, sharey=True)\n",
    "fig.suptitle('Cluster Proportion - All Data')\n",
    "ax1.set_title('General Population')\n",
    "ax2.set_title('Customer Population')\n",
    "sns.barplot(x=prop_data_all.index, y=prop_data_all.gen_pop, ax=ax1)\n",
    "sns.barplot(x=prop_data_all.index, y=prop_data_all.customers, ax=ax2)\n",
    "plt.show()"
   ]
  },
  {
   "cell_type": "code",
   "execution_count": 89,
   "metadata": {},
   "outputs": [
    {
     "name": "stdout",
     "output_type": "stream",
     "text": [
      "\n",
      " Cluster Representation - LOW NaN Data\n",
      "----------\n",
      "\n",
      "Cluster 1: UNDER represented by -8.32%\n",
      "Cluster 2: OVER represented by 6.42%\n",
      "Cluster 3: UNDER represented by -11.93%\n",
      "Cluster 4: OVER represented by 7.32%\n",
      "Cluster 5: UNDER represented by -2.24%\n",
      "Cluster 6: UNDER represented by -2.78%\n",
      "Cluster 7: UNDER represented by -7.32%\n",
      "Cluster 8: OVER represented by 24.98%\n",
      "Cluster 9: UNDER represented by -3.78%\n",
      "Cluster 10: UNDER represented by -2.34%\n"
     ]
    }
   ],
   "source": [
    "''' What kinds of people are part of a cluster that is overrepresented \n",
    "in the customer data compared to the general population?'''\n",
    "\n",
    "rep = {}\n",
    "\n",
    "print('\\n Cluster Representation - LOW NaN Data\\n----------\\n')\n",
    "for i in np.arange(0,10):\n",
    "    a = customer_cluster_prop[i]\n",
    "    b = gen_pop_cluster_prop[i]\n",
    "    rep[i+1] = (a-b)*100\n",
    "\n",
    "for x in rep:\n",
    "    if(rep[x]>0):\n",
    "        print('Cluster %s: OVER represented by %.2f%%'% (x, rep[x]))\n",
    "    elif(rep[x]<0):\n",
    "        print('Cluster %s: UNDER represented by %.2f%%'% (x, rep[x]))"
   ]
  },
  {
   "cell_type": "code",
   "execution_count": 90,
   "metadata": {},
   "outputs": [
    {
     "name": "stdout",
     "output_type": "stream",
     "text": [
      "\n",
      " Cluster Over Representation - FULL Population\n",
      "----------\n",
      "\n",
      "Cluster 1: UNDER represented by -7.57%\n",
      "Cluster 2: OVER represented by 4.06%\n",
      "Cluster 3: UNDER represented by -10.84%\n",
      "Cluster 4: OVER represented by 3.51%\n",
      "Cluster 5: UNDER represented by -3.65%\n",
      "Cluster 6: UNDER represented by -3.76%\n",
      "Cluster 7: UNDER represented by -6.74%\n",
      "Cluster 8: OVER represented by 16.42%\n",
      "Cluster 9: UNDER represented by -3.91%\n",
      "Cluster 10: UNDER represented by -3.09%\n"
     ]
    }
   ],
   "source": [
    "full_rep = {}\n",
    "\n",
    "print('\\n Cluster Over Representation - FULL Population\\n----------\\n')\n",
    "for i in np.arange(0,10):\n",
    "    a = prop_data_all.customers.iloc[i]\n",
    "    b = prop_data_all.gen_pop.iloc[i]\n",
    "    full_rep[i+1] = (a-b)*100\n",
    "\n",
    "for x in full_rep:\n",
    "    if(full_rep[x]>0):\n",
    "        print('Cluster %s: OVER represented by %.2f%%'% (x, full_rep[x]))\n",
    "    elif(full_rep[x]<0):\n",
    "        print('Cluster %s: UNDER represented by %.2f%%'% (x, full_rep[x]))\n"
   ]
  },
  {
   "cell_type": "code",
   "execution_count": 68,
   "metadata": {},
   "outputs": [],
   "source": [
    "def cluster_centers(cluster):\n",
    "    cluster_center = np.around(kmeans.cluster_centers_[cluster-1], decimals=2)\n",
    "    clusters_sorted = cluster_center[np.argsort(cluster_center)[:]]\n",
    "    pca_undone=np.around(pca.inverse_transform(kmeans.cluster_centers_[cluster-1]), \n",
    "                                                 decimals=2)\n",
    "    pca_undone_sorted = pca_undone[np.argsort(pca_undone)[:]]\n",
    "    print('Cluster %s' % cluster)\n",
    "    print('sorted array\\n-----\\n Top 3: %s \\n Bottom 3: %s '% (np.flip(clusters_sorted[-3:],0), \n",
    "                                                               clusters_sorted[:3]))\n",
    "    print('\\n original array\\n-----\\n %s'% cluster_center)\n",
    "    \n",
    "    print('PCA sorted\\n-----\\n Top 3: %s \\n Bottom 3: %s '% (np.flip(pca_undone_sorted[-3:],0), \n",
    "                                                               pca_undone_sorted[:3]))\n",
    "    print('\\n PCA Undone\\n-----\\n %s'% pca_undone)"
   ]
  },
  {
   "cell_type": "code",
   "execution_count": 140,
   "metadata": {},
   "outputs": [
    {
     "name": "stdout",
     "output_type": "stream",
     "text": [
      "Cluster 3\n",
      "sorted array\n",
      "-----\n",
      " Top 3: [ 4.62  0.72  0.38] \n",
      " Bottom 3: [-2.43 -2.14 -0.53] \n",
      "\n",
      " original array\n",
      "-----\n",
      " [ 4.62 -2.14 -2.43  0.72 -0.26 -0.21 -0.29 -0.4   0.1   0.38 -0.47 -0.15\n",
      "  0.14 -0.05 -0.05 -0.04 -0.33  0.22 -0.05  0.02  0.07 -0.27  0.3   0.01\n",
      " -0.53  0.03 -0.06  0.2  -0.04  0.11  0.37 -0.06  0.02  0.14  0.1  -0.01\n",
      "  0.05 -0.22 -0.25 -0.01 -0.08 -0.04  0.05 -0.04 -0.1  -0.03 -0.02 -0.01\n",
      "  0.02 -0.01 -0.07 -0.03 -0.02  0.02  0.04 -0.04  0.    0.01  0.    0.02\n",
      "  0.    0.01  0.01  0.04  0.01 -0.    0.01 -0.   -0.    0.04 -0.03 -0.01\n",
      "  0.01  0.05  0.02]\n",
      "PCA sorted\n",
      "-----\n",
      " Top 3: [ 1.46  1.31  1.24] \n",
      " Bottom 3: [-1.4  -1.02 -0.97] \n",
      "\n",
      " PCA Undone\n",
      "-----\n",
      " [-0.97  0.93 -1.4   1.15 -0.88  1.03  0.84  0.82 -0.43  0.13 -0.63 -0.47\n",
      " -0.13  0.66  0.42 -1.02 -0.55 -0.11 -0.05  1.24  0.53  0.84  0.93  0.97\n",
      "  0.91 -0.02 -0.02 -0.26 -0.06  0.73 -0.04 -0.38  0.35  0.04 -0.48 -0.25\n",
      " -0.6   0.14  0.47  0.4  -0.62 -0.31  0.56 -0.43 -0.29  0.11 -0.63  0.17\n",
      "  0.14 -0.18 -0.6   0.45  0.63  0.6   0.18 -0.4   0.38  0.57  0.36 -0.07\n",
      " -0.26 -0.29  0.13 -0.07  0.24  0.27  1.31 -0.35 -0.17 -0.11 -0.39 -0.52\n",
      " -0.03 -0.12 -0.12 -0.1  -0.15 -0.1  -0.17 -0.01  0.15 -0.04  0.07  0.4\n",
      "  0.21 -0.14  0.12  0.16  0.06  0.01  0.   -0.09  0.04 -0.12 -0.16  0.21\n",
      " -0.14  0.2  -0.06 -0.19  0.02  1.46 -0.24 -0.25 -0.16 -0.15 -0.11 -0.15\n",
      " -0.4  -0.38  1.05 -0.42 -0.19 -0.44 -0.38 -0.33  0.15  0.33 -0.27  0.02\n",
      "  0.4  -0.22 -0.44 -0.17 -0.51  0.57  0.66 -0.05 -0.27 -0.06  0.16 -0.04\n",
      " -0.    0.    0.19 -0.15 -0.29 -0.24 -0.26 -0.03 -0.    0.13  0.29  0.4\n",
      " -0.06 -0.   -0.03 -0.13 -0.08 -0.12 -0.11 -0.15 -0.17 -0.13 -0.08 -0.14\n",
      " -0.11 -0.17 -0.07 -0.17 -0.03 -0.03  0.03 -0.05 -0.03  0.02 -0.03 -0.04\n",
      "  0.05 -0.03  0.04 -0.04 -0.02 -0.02  0.08  0.12  0.01  0.02 -0.02  0.24\n",
      "  0.14  0.12  0.04  0.24  0.2   0.17  0.2  -0.04 -0.43  0.93  0.62 -0.45\n",
      " -0.49]\n"
     ]
    }
   ],
   "source": [
    "cluster_centers(cluster=3)"
   ]
  },
  {
   "cell_type": "code",
   "execution_count": 141,
   "metadata": {},
   "outputs": [
    {
     "name": "stdout",
     "output_type": "stream",
     "text": [
      "Cluster 8\n",
      "sorted array\n",
      "-----\n",
      " Top 3: [ 3.26  1.06  0.69] \n",
      " Bottom 3: [-4.43 -1.01 -0.98] \n",
      "\n",
      " original array\n",
      "-----\n",
      " [-4.43  0.5   1.06  3.26 -0.9  -1.01 -0.98 -0.7  -0.01  0.1   0.45  0.44\n",
      "  0.25  0.    0.39 -0.23  0.09  0.21 -0.1   0.69 -0.66 -0.55  0.14 -0.03\n",
      "  0.19  0.2   0.07  0.18 -0.03 -0.13  0.16 -0.04 -0.07  0.26  0.08  0.06\n",
      "  0.05  0.05 -0.08 -0.01  0.02 -0.02 -0.05 -0.06  0.01  0.03  0.01 -0.02\n",
      " -0.01  0.07  0.01  0.    0.06  0.   -0.02  0.01 -0.03  0.05 -0.04  0.05\n",
      "  0.02  0.01 -0.02 -0.01  0.01 -0.02  0.01  0.04 -0.01 -0.03  0.02  0.05\n",
      " -0.03  0.04 -0.03]\n",
      "PCA sorted\n",
      "-----\n",
      " Top 3: [ 2.28  2.28  1.9 ] \n",
      " Bottom 3: [-1.34 -0.84 -0.81] \n",
      "\n",
      " PCA Undone\n",
      "-----\n",
      " [ 0.4  -0.08  1.06 -0.58  0.4  -0.58 -0.24 -0.81  1.9  -0.17  0.09  0.02\n",
      " -0.24 -0.39 -0.28  0.24  0.33  0.19 -0.19 -0.34 -0.14  0.05 -0.07 -0.4\n",
      " -0.25  0.02 -0.1   0.45 -0.1  -1.34 -0.2   0.33 -0.43 -0.12  0.29 -0.06\n",
      "  0.99 -0.15 -0.61 -0.45  0.77  0.01 -0.05  0.11  0.35 -0.51  0.91  0.35\n",
      " -0.52  0.2   0.62 -0.32 -0.47 -0.45  0.06  0.48 -0.22 -0.04 -0.19  0.28\n",
      "  0.02  0.18 -0.02 -0.11 -0.07  0.02 -0.58  0.37  0.35 -0.12  0.13  0.07\n",
      "  0.01 -0.04  0.14 -0.07  0.19  0.07  0.24  0.15 -0.1   0.04 -0.13 -0.33\n",
      " -0.46  0.17 -0.05 -0.04 -0.01 -0.03  0.06  0.13  0.01  0.26  0.25 -0.46\n",
      "  0.17 -0.05  0.11  0.37 -0.52 -0.36 -0.23 -0.3  -0.23 -0.2  -0.11 -0.16\n",
      " -0.45  2.28 -0.72 -0.47 -0.23 -0.49  2.28  0.24 -0.18 -0.14  0.06 -0.14\n",
      " -0.13  0.24  0.73  0.42 -0.1  -0.3  -0.34 -0.22  0.45  0.07 -0.41  0.03\n",
      "  0.03 -0.   -0.15  0.49  0.57  0.13  0.15 -0.03 -0.11 -0.19 -0.37 -0.36\n",
      "  0.14  0.09  0.12  0.45  0.19  0.23  0.12  0.25  0.43  0.06  0.04  0.06\n",
      "  0.08  0.03  0.01  0.13  0.09  0.06 -0.07  0.   -0.01 -0.01  0.02  0.03\n",
      " -0.03 -0.06 -0.02  0.04 -0.14 -0.01 -0.12 -0.12 -0.05 -0.06 -0.04 -0.21\n",
      " -0.18 -0.17 -0.11 -0.14 -0.19 -0.16 -0.18 -0.06  1.9  -0.41 -0.84  0.49\n",
      " -0.17]\n"
     ]
    }
   ],
   "source": [
    "cluster_centers(cluster=8)"
   ]
  },
  {
   "cell_type": "code",
   "execution_count": 69,
   "metadata": {},
   "outputs": [
    {
     "name": "stdout",
     "output_type": "stream",
     "text": [
      "Cluster 2\n",
      "sorted array\n",
      "-----\n",
      " Top 3: [ 2.17  1.94  0.72] \n",
      " Bottom 3: [-1.49 -1.42 -1.41] \n",
      "\n",
      " original array\n",
      "-----\n",
      " [-1.49  2.17 -1.42 -1.41 -1.    1.94 -0.64  0.65 -0.12 -0.21  0.7   0.41\n",
      " -0.5   0.09  0.04  0.06  0.72 -0.39  0.04 -0.26 -0.06  0.42  0.22  0.07\n",
      " -0.3  -0.09 -0.   -0.17 -0.03 -0.13 -0.39 -0.14 -0.1   0.19  0.1   0.2\n",
      " -0.07  0.17 -0.01  0.05  0.07 -0.12  0.12 -0.13  0.11  0.07  0.05  0.\n",
      "  0.09  0.07 -0.05  0.08  0.07  0.02  0.01 -0.07  0.04  0.01  0.05 -0.01\n",
      " -0.03  0.03  0.01  0.04 -0.06 -0.01 -0.01 -0.03  0.02 -0.06  0.01 -0.02\n",
      " -0.    0.11 -0.04]\n",
      "PCA sorted\n",
      "-----\n",
      " Top 3: [ 1.61  1.4   0.9 ] \n",
      " Bottom 3: [-0.73 -0.68 -0.68] \n",
      "\n",
      " PCA Undone\n",
      "-----\n",
      " [ 0.63  0.39  0.01 -0.61  0.61 -0.21 -0.61  0.54 -0.15 -0.14  0.35 -0.44\n",
      " -0.58 -0.68 -0.38 -0.29  0.41  0.67 -0.68 -0.37  0.41  0.14  0.21 -0.56\n",
      " -0.55 -0.04 -0.02 -0.27 -0.09  0.3   0.31  0.16 -0.17 -0.08  0.28 -0.15\n",
      "  0.02  0.36  0.17 -0.28  0.11  0.39 -0.61  0.47  0.18 -0.05  0.14 -0.56\n",
      " -0.14  0.27  0.34 -0.19 -0.37 -0.43 -0.    0.38 -0.32 -0.67 -0.37 -0.11\n",
      "  0.16  0.4  -0.15 -0.04 -0.2  -0.18 -0.28  0.37 -0.42 -0.2   0.05  0.27\n",
      "  0.04 -0.18 -0.04  0.04  0.14  0.05 -0.06  0.05 -0.2   0.04 -0.04  0.08\n",
      "  0.25  0.04 -0.07 -0.03 -0.05 -0.08 -0.11 -0.14 -0.03 -0.08 -0.19  0.25\n",
      "  0.04 -0.08 -0.2  -0.18 -0.45 -0.45  0.9   1.4  -0.01 -0.15 -0.11 -0.11\n",
      " -0.36 -0.32 -0.73  1.61 -0.19 -0.38 -0.32  0.21 -0.17 -0.11 -0.18 -0.04\n",
      "  0.1   0.09 -0.44 -0.24  0.66 -0.18 -0.26  0.16  0.06 -0.17 -0.11 -0.09\n",
      "  0.02 -0.04  0.09 -0.02 -0.05  0.15  0.11  0.03  0.2   0.02 -0.14 -0.26\n",
      "  0.06  0.04  0.   -0.11 -0.01 -0.09 -0.06 -0.06  0.07 -0.05 -0.07  0.15\n",
      "  0.13  0.03 -0.01  0.12  0.07 -0.04  0.05  0.01 -0.02  0.    0.03  0.02\n",
      "  0.02  0.17  0.03  0.04  0.07  0.    0.05 -0.04  0.01 -0.02  0.07 -0.12\n",
      " -0.13  0.    0.01 -0.1  -0.1  -0.17 -0.16  0.04 -0.15 -0.6  -0.16  0.28\n",
      "  0.64]\n"
     ]
    }
   ],
   "source": [
    "cluster_centers(cluster=2)"
   ]
  },
  {
   "cell_type": "markdown",
   "metadata": {},
   "source": [
    "> #### Could Also Visualize Clustering in 2 Dimensions:\n",
    "\n",
    "```python\n",
    "reduced_data = PCA(n_components=2).fit_transform(df)\n",
    "clusters = KMeans(n_clusters=best_k, random_state=100).fit(reduced_data)\n",
    "\n",
    "x_min, x_max = reduced_data[:, 0].min() - 1, reduced_data[:, 0].max() + 1\n",
    "y_min, y_max = reduced_data[:, 1].min() - 1, reduced_data[:, 1].max() + 1\n",
    "hx = (x_max-x_min)/1000.\n",
    "hy = (y_max-y_min)/1000.\n",
    "xx, yy = np.meshgrid(np.arange(x_min, x_max, hx), np.arange(y_min, y_max, hy))\n",
    "\n",
    "Z = clusters.predict(np.c_[xx.ravel(), yy.ravel()])\n",
    "centroids = clusters.cluster_centers_\n",
    "\n",
    "def PCA_plot(Z, centroids):\n",
    "    Z = Z.reshape(xx.shape)\n",
    "    plt.figure(1, figsize=(20, 10))\n",
    "    plt.clf()\n",
    "    plt.imshow(Z, interpolation='nearest',\n",
    "               extent=(xx.min(), xx.max(), yy.min(), yy.max()),\n",
    "               cmap=plt.cm.Paired,\n",
    "               aspect='auto', origin='lower')\n",
    "\n",
    "    plt.plot(reduced_data[:, 0], reduced_data[:, 1], 'k.',\n",
    "             markersize=2, alpha=0.1)\n",
    "    plt.scatter(centroids[:, 0], centroids[:, 1],\n",
    "                marker='x', s=169, linewidths=3,\n",
    "                color='w', zorder=10)\n",
    "    plt.title('Clustering on the dataset (PCA-reduced data)\\n'\n",
    "              'Centroids are marked with white cross')\n",
    "    plt.xlim(x_min, x_max)\n",
    "    plt.ylim(y_min, y_max)\n",
    "    plt.xticks(())\n",
    "    plt.yticks(())\n",
    "    plt.show()\n",
    "\n",
    "PCA_plot(Z, centroids)\n",
    "```"
   ]
  },
  {
   "attachments": {},
   "cell_type": "markdown",
   "metadata": {},
   "source": [
    "## Contact me at-\n",
    "### radhikaagarwal963@gmail.com\n",
    "--------------------------------------------------------------------------------------------------------------------------"
   ]
  }
 ],
 "metadata": {
  "kernelspec": {
   "display_name": "Python 3",
   "language": "python",
   "name": "python3"
  },
  "language_info": {
   "codemirror_mode": {
    "name": "ipython",
    "version": 3
   },
   "file_extension": ".py",
   "mimetype": "text/x-python",
   "name": "python",
   "nbconvert_exporter": "python",
   "pygments_lexer": "ipython3",
   "version": "3.11.0"
  }
 },
 "nbformat": 4,
 "nbformat_minor": 2
}
